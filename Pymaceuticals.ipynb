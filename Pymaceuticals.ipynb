{
 "cells": [
  {
   "cell_type": "markdown",
   "metadata": {},
   "source": [
    "## Observations and Insights "
   ]
  },
  {
   "cell_type": "markdown",
   "metadata": {},
   "source": [
    "#### Observation 1\n",
    "*Capomulin and Ramicane seem to be more effective and consistent at shrinking tumor volumes with Capomulin having an average tumor volume of 40.68 (SD=4.99) and Ramicane having an average tumor volume of 40.22 (SD=4.85). The rest of the treatments all have average tumor volumes above 52 with standard deviations over 6.*\n",
    "  \n",
    "#### Observation 2 \n",
    "*As time increases, the tumor volume of mice treated with Capomulin tends to decrease.*  \n",
    "  \n",
    "#### Observation 3  \n",
    "*There is a strong positive relationship between Tumor Volume and Weight in mice treated with Capomulin (Pearson Correlation Coefficient = 0.88).*"
   ]
  },
  {
   "cell_type": "code",
   "execution_count": 269,
   "metadata": {},
   "outputs": [
    {
     "data": {
      "text/html": [
       "<div>\n",
       "<style scoped>\n",
       "    .dataframe tbody tr th:only-of-type {\n",
       "        vertical-align: middle;\n",
       "    }\n",
       "\n",
       "    .dataframe tbody tr th {\n",
       "        vertical-align: top;\n",
       "    }\n",
       "\n",
       "    .dataframe thead th {\n",
       "        text-align: right;\n",
       "    }\n",
       "</style>\n",
       "<table border=\"1\" class=\"dataframe\">\n",
       "  <thead>\n",
       "    <tr style=\"text-align: right;\">\n",
       "      <th></th>\n",
       "      <th>Mouse ID</th>\n",
       "      <th>Drug Regimen</th>\n",
       "      <th>Sex</th>\n",
       "      <th>Age_months</th>\n",
       "      <th>Weight (g)</th>\n",
       "      <th>Timepoint</th>\n",
       "      <th>Tumor Volume (mm3)</th>\n",
       "      <th>Metastatic Sites</th>\n",
       "    </tr>\n",
       "  </thead>\n",
       "  <tbody>\n",
       "    <tr>\n",
       "      <th>0</th>\n",
       "      <td>k403</td>\n",
       "      <td>Ramicane</td>\n",
       "      <td>Male</td>\n",
       "      <td>21</td>\n",
       "      <td>16</td>\n",
       "      <td>0</td>\n",
       "      <td>45.000000</td>\n",
       "      <td>0</td>\n",
       "    </tr>\n",
       "    <tr>\n",
       "      <th>1</th>\n",
       "      <td>k403</td>\n",
       "      <td>Ramicane</td>\n",
       "      <td>Male</td>\n",
       "      <td>21</td>\n",
       "      <td>16</td>\n",
       "      <td>5</td>\n",
       "      <td>38.825898</td>\n",
       "      <td>0</td>\n",
       "    </tr>\n",
       "    <tr>\n",
       "      <th>2</th>\n",
       "      <td>k403</td>\n",
       "      <td>Ramicane</td>\n",
       "      <td>Male</td>\n",
       "      <td>21</td>\n",
       "      <td>16</td>\n",
       "      <td>10</td>\n",
       "      <td>35.014271</td>\n",
       "      <td>1</td>\n",
       "    </tr>\n",
       "    <tr>\n",
       "      <th>3</th>\n",
       "      <td>k403</td>\n",
       "      <td>Ramicane</td>\n",
       "      <td>Male</td>\n",
       "      <td>21</td>\n",
       "      <td>16</td>\n",
       "      <td>15</td>\n",
       "      <td>34.223992</td>\n",
       "      <td>1</td>\n",
       "    </tr>\n",
       "    <tr>\n",
       "      <th>4</th>\n",
       "      <td>k403</td>\n",
       "      <td>Ramicane</td>\n",
       "      <td>Male</td>\n",
       "      <td>21</td>\n",
       "      <td>16</td>\n",
       "      <td>20</td>\n",
       "      <td>32.997729</td>\n",
       "      <td>1</td>\n",
       "    </tr>\n",
       "    <tr>\n",
       "      <th>...</th>\n",
       "      <td>...</td>\n",
       "      <td>...</td>\n",
       "      <td>...</td>\n",
       "      <td>...</td>\n",
       "      <td>...</td>\n",
       "      <td>...</td>\n",
       "      <td>...</td>\n",
       "      <td>...</td>\n",
       "    </tr>\n",
       "    <tr>\n",
       "      <th>1888</th>\n",
       "      <td>z969</td>\n",
       "      <td>Naftisol</td>\n",
       "      <td>Male</td>\n",
       "      <td>9</td>\n",
       "      <td>30</td>\n",
       "      <td>25</td>\n",
       "      <td>63.145652</td>\n",
       "      <td>2</td>\n",
       "    </tr>\n",
       "    <tr>\n",
       "      <th>1889</th>\n",
       "      <td>z969</td>\n",
       "      <td>Naftisol</td>\n",
       "      <td>Male</td>\n",
       "      <td>9</td>\n",
       "      <td>30</td>\n",
       "      <td>30</td>\n",
       "      <td>65.841013</td>\n",
       "      <td>3</td>\n",
       "    </tr>\n",
       "    <tr>\n",
       "      <th>1890</th>\n",
       "      <td>z969</td>\n",
       "      <td>Naftisol</td>\n",
       "      <td>Male</td>\n",
       "      <td>9</td>\n",
       "      <td>30</td>\n",
       "      <td>35</td>\n",
       "      <td>69.176246</td>\n",
       "      <td>4</td>\n",
       "    </tr>\n",
       "    <tr>\n",
       "      <th>1891</th>\n",
       "      <td>z969</td>\n",
       "      <td>Naftisol</td>\n",
       "      <td>Male</td>\n",
       "      <td>9</td>\n",
       "      <td>30</td>\n",
       "      <td>40</td>\n",
       "      <td>70.314904</td>\n",
       "      <td>4</td>\n",
       "    </tr>\n",
       "    <tr>\n",
       "      <th>1892</th>\n",
       "      <td>z969</td>\n",
       "      <td>Naftisol</td>\n",
       "      <td>Male</td>\n",
       "      <td>9</td>\n",
       "      <td>30</td>\n",
       "      <td>45</td>\n",
       "      <td>73.867845</td>\n",
       "      <td>4</td>\n",
       "    </tr>\n",
       "  </tbody>\n",
       "</table>\n",
       "<p>1893 rows × 8 columns</p>\n",
       "</div>"
      ],
      "text/plain": [
       "     Mouse ID Drug Regimen   Sex  Age_months  Weight (g)  Timepoint  \\\n",
       "0        k403     Ramicane  Male          21          16          0   \n",
       "1        k403     Ramicane  Male          21          16          5   \n",
       "2        k403     Ramicane  Male          21          16         10   \n",
       "3        k403     Ramicane  Male          21          16         15   \n",
       "4        k403     Ramicane  Male          21          16         20   \n",
       "...       ...          ...   ...         ...         ...        ...   \n",
       "1888     z969     Naftisol  Male           9          30         25   \n",
       "1889     z969     Naftisol  Male           9          30         30   \n",
       "1890     z969     Naftisol  Male           9          30         35   \n",
       "1891     z969     Naftisol  Male           9          30         40   \n",
       "1892     z969     Naftisol  Male           9          30         45   \n",
       "\n",
       "      Tumor Volume (mm3)  Metastatic Sites  \n",
       "0              45.000000                 0  \n",
       "1              38.825898                 0  \n",
       "2              35.014271                 1  \n",
       "3              34.223992                 1  \n",
       "4              32.997729                 1  \n",
       "...                  ...               ...  \n",
       "1888           63.145652                 2  \n",
       "1889           65.841013                 3  \n",
       "1890           69.176246                 4  \n",
       "1891           70.314904                 4  \n",
       "1892           73.867845                 4  \n",
       "\n",
       "[1893 rows x 8 columns]"
      ]
     },
     "execution_count": 269,
     "metadata": {},
     "output_type": "execute_result"
    }
   ],
   "source": [
    "# Dependencies and Setup\n",
    "import matplotlib.pyplot as plt\n",
    "import pandas as pd\n",
    "import scipy.stats as st\n",
    "import numpy as np\n",
    "from random import randint\n",
    "\n",
    "\n",
    "# Study data files\n",
    "mouse_metadata_path = \"data/Mouse_metadata.csv\"\n",
    "study_results_path = \"data/Study_results.csv\"\n",
    "\n",
    "# Read the mouse data and the study results\n",
    "mouse_metadata = pd.read_csv(mouse_metadata_path)\n",
    "study_results = pd.read_csv(study_results_path)\n",
    "\n",
    "# Combine the data into a single dataset\n",
    "df = pd.merge(mouse_metadata, study_results, on=\"Mouse ID\")\n",
    "\n",
    "# Display the data table for preview\n",
    "df"
   ]
  },
  {
   "cell_type": "code",
   "execution_count": 270,
   "metadata": {},
   "outputs": [
    {
     "name": "stdout",
     "output_type": "stream",
     "text": [
      "There are 249 mice in the dataset\n"
     ]
    }
   ],
   "source": [
    "# Checking the number of mice.\n",
    "num_mice = len(df[\"Mouse ID\"].unique())\n",
    "print(f'There are {num_mice} mice in the dataset')"
   ]
  },
  {
   "cell_type": "code",
   "execution_count": 271,
   "metadata": {},
   "outputs": [
    {
     "name": "stdout",
     "output_type": "stream",
     "text": [
      "The duplicate rows are from mouse g989\n"
     ]
    }
   ],
   "source": [
    "# Getting the duplicate mice by ID number that shows up for Mouse ID and Timepoint.\n",
    "duplicate_rows = df[df.duplicated(['Mouse ID', 'Timepoint'])]\n",
    "mouse_id = duplicate_rows['Mouse ID'].unique()\n",
    "print(f'The duplicate rows are from mouse {mouse_id[0]}')"
   ]
  },
  {
   "cell_type": "code",
   "execution_count": 272,
   "metadata": {},
   "outputs": [
    {
     "data": {
      "text/html": [
       "<div>\n",
       "<style scoped>\n",
       "    .dataframe tbody tr th:only-of-type {\n",
       "        vertical-align: middle;\n",
       "    }\n",
       "\n",
       "    .dataframe tbody tr th {\n",
       "        vertical-align: top;\n",
       "    }\n",
       "\n",
       "    .dataframe thead th {\n",
       "        text-align: right;\n",
       "    }\n",
       "</style>\n",
       "<table border=\"1\" class=\"dataframe\">\n",
       "  <thead>\n",
       "    <tr style=\"text-align: right;\">\n",
       "      <th></th>\n",
       "      <th>Mouse ID</th>\n",
       "      <th>Drug Regimen</th>\n",
       "      <th>Sex</th>\n",
       "      <th>Age_months</th>\n",
       "      <th>Weight (g)</th>\n",
       "      <th>Timepoint</th>\n",
       "      <th>Tumor Volume (mm3)</th>\n",
       "      <th>Metastatic Sites</th>\n",
       "    </tr>\n",
       "  </thead>\n",
       "  <tbody>\n",
       "    <tr>\n",
       "      <th>908</th>\n",
       "      <td>g989</td>\n",
       "      <td>Propriva</td>\n",
       "      <td>Female</td>\n",
       "      <td>21</td>\n",
       "      <td>26</td>\n",
       "      <td>0</td>\n",
       "      <td>45.000000</td>\n",
       "      <td>0</td>\n",
       "    </tr>\n",
       "    <tr>\n",
       "      <th>909</th>\n",
       "      <td>g989</td>\n",
       "      <td>Propriva</td>\n",
       "      <td>Female</td>\n",
       "      <td>21</td>\n",
       "      <td>26</td>\n",
       "      <td>0</td>\n",
       "      <td>45.000000</td>\n",
       "      <td>0</td>\n",
       "    </tr>\n",
       "    <tr>\n",
       "      <th>910</th>\n",
       "      <td>g989</td>\n",
       "      <td>Propriva</td>\n",
       "      <td>Female</td>\n",
       "      <td>21</td>\n",
       "      <td>26</td>\n",
       "      <td>5</td>\n",
       "      <td>48.786801</td>\n",
       "      <td>0</td>\n",
       "    </tr>\n",
       "    <tr>\n",
       "      <th>911</th>\n",
       "      <td>g989</td>\n",
       "      <td>Propriva</td>\n",
       "      <td>Female</td>\n",
       "      <td>21</td>\n",
       "      <td>26</td>\n",
       "      <td>5</td>\n",
       "      <td>47.570392</td>\n",
       "      <td>0</td>\n",
       "    </tr>\n",
       "    <tr>\n",
       "      <th>912</th>\n",
       "      <td>g989</td>\n",
       "      <td>Propriva</td>\n",
       "      <td>Female</td>\n",
       "      <td>21</td>\n",
       "      <td>26</td>\n",
       "      <td>10</td>\n",
       "      <td>51.745156</td>\n",
       "      <td>0</td>\n",
       "    </tr>\n",
       "    <tr>\n",
       "      <th>913</th>\n",
       "      <td>g989</td>\n",
       "      <td>Propriva</td>\n",
       "      <td>Female</td>\n",
       "      <td>21</td>\n",
       "      <td>26</td>\n",
       "      <td>10</td>\n",
       "      <td>49.880528</td>\n",
       "      <td>0</td>\n",
       "    </tr>\n",
       "    <tr>\n",
       "      <th>914</th>\n",
       "      <td>g989</td>\n",
       "      <td>Propriva</td>\n",
       "      <td>Female</td>\n",
       "      <td>21</td>\n",
       "      <td>26</td>\n",
       "      <td>15</td>\n",
       "      <td>51.325852</td>\n",
       "      <td>1</td>\n",
       "    </tr>\n",
       "    <tr>\n",
       "      <th>915</th>\n",
       "      <td>g989</td>\n",
       "      <td>Propriva</td>\n",
       "      <td>Female</td>\n",
       "      <td>21</td>\n",
       "      <td>26</td>\n",
       "      <td>15</td>\n",
       "      <td>53.442020</td>\n",
       "      <td>0</td>\n",
       "    </tr>\n",
       "    <tr>\n",
       "      <th>916</th>\n",
       "      <td>g989</td>\n",
       "      <td>Propriva</td>\n",
       "      <td>Female</td>\n",
       "      <td>21</td>\n",
       "      <td>26</td>\n",
       "      <td>20</td>\n",
       "      <td>55.326122</td>\n",
       "      <td>1</td>\n",
       "    </tr>\n",
       "    <tr>\n",
       "      <th>917</th>\n",
       "      <td>g989</td>\n",
       "      <td>Propriva</td>\n",
       "      <td>Female</td>\n",
       "      <td>21</td>\n",
       "      <td>26</td>\n",
       "      <td>20</td>\n",
       "      <td>54.657650</td>\n",
       "      <td>1</td>\n",
       "    </tr>\n",
       "    <tr>\n",
       "      <th>918</th>\n",
       "      <td>g989</td>\n",
       "      <td>Propriva</td>\n",
       "      <td>Female</td>\n",
       "      <td>21</td>\n",
       "      <td>26</td>\n",
       "      <td>25</td>\n",
       "      <td>56.045564</td>\n",
       "      <td>1</td>\n",
       "    </tr>\n",
       "    <tr>\n",
       "      <th>919</th>\n",
       "      <td>g989</td>\n",
       "      <td>Propriva</td>\n",
       "      <td>Female</td>\n",
       "      <td>21</td>\n",
       "      <td>26</td>\n",
       "      <td>30</td>\n",
       "      <td>59.082294</td>\n",
       "      <td>1</td>\n",
       "    </tr>\n",
       "    <tr>\n",
       "      <th>920</th>\n",
       "      <td>g989</td>\n",
       "      <td>Propriva</td>\n",
       "      <td>Female</td>\n",
       "      <td>21</td>\n",
       "      <td>26</td>\n",
       "      <td>35</td>\n",
       "      <td>62.570880</td>\n",
       "      <td>2</td>\n",
       "    </tr>\n",
       "  </tbody>\n",
       "</table>\n",
       "</div>"
      ],
      "text/plain": [
       "    Mouse ID Drug Regimen     Sex  Age_months  Weight (g)  Timepoint  \\\n",
       "908     g989     Propriva  Female          21          26          0   \n",
       "909     g989     Propriva  Female          21          26          0   \n",
       "910     g989     Propriva  Female          21          26          5   \n",
       "911     g989     Propriva  Female          21          26          5   \n",
       "912     g989     Propriva  Female          21          26         10   \n",
       "913     g989     Propriva  Female          21          26         10   \n",
       "914     g989     Propriva  Female          21          26         15   \n",
       "915     g989     Propriva  Female          21          26         15   \n",
       "916     g989     Propriva  Female          21          26         20   \n",
       "917     g989     Propriva  Female          21          26         20   \n",
       "918     g989     Propriva  Female          21          26         25   \n",
       "919     g989     Propriva  Female          21          26         30   \n",
       "920     g989     Propriva  Female          21          26         35   \n",
       "\n",
       "     Tumor Volume (mm3)  Metastatic Sites  \n",
       "908           45.000000                 0  \n",
       "909           45.000000                 0  \n",
       "910           48.786801                 0  \n",
       "911           47.570392                 0  \n",
       "912           51.745156                 0  \n",
       "913           49.880528                 0  \n",
       "914           51.325852                 1  \n",
       "915           53.442020                 0  \n",
       "916           55.326122                 1  \n",
       "917           54.657650                 1  \n",
       "918           56.045564                 1  \n",
       "919           59.082294                 1  \n",
       "920           62.570880                 2  "
      ]
     },
     "execution_count": 272,
     "metadata": {},
     "output_type": "execute_result"
    }
   ],
   "source": [
    "# Optional: Get all the data for the duplicate mouse ID. \n",
    "all_duplicate_data = df[df['Mouse ID']==mouse_id[0]]\n",
    "all_duplicate_data"
   ]
  },
  {
   "cell_type": "code",
   "execution_count": 273,
   "metadata": {},
   "outputs": [],
   "source": [
    "# Create a clean DataFrame by dropping the duplicate mouse by its ID.\n",
    "clean_df = df[df['Mouse ID']!=mouse_id[0]]"
   ]
  },
  {
   "cell_type": "code",
   "execution_count": 274,
   "metadata": {},
   "outputs": [
    {
     "name": "stdout",
     "output_type": "stream",
     "text": [
      "There are 248 mice in the clean dataset\n"
     ]
    }
   ],
   "source": [
    "# Checking the number of mice in the clean DataFrame.\n",
    "num_mice = len(clean_df[\"Mouse ID\"].unique())\n",
    "print(f'There are {num_mice} mice in the clean dataset')"
   ]
  },
  {
   "cell_type": "markdown",
   "metadata": {},
   "source": [
    "## Summary Statistics"
   ]
  },
  {
   "cell_type": "code",
   "execution_count": 275,
   "metadata": {},
   "outputs": [],
   "source": [
    "# Generate a summary statistics table of mean, median, variance, standard deviation, and SEM of the tumor volume for each regimen\n",
    "\n",
    "# Use groupby and summary statistical methods to calculate the following properties of each drug regimen: \n",
    "# mean, median, variance, standard deviation, and SEM of the tumor volume. \n",
    "# Assemble the resulting series into a single summary dataframe.\n",
    "grouped_drug = clean_df.groupby('Drug Regimen').mean()['Tumor Volume (mm3)']\n",
    "col_mean = clean_df.groupby('Drug Regimen').mean()['Tumor Volume (mm3)']\n",
    "col_median = clean_df.groupby('Drug Regimen').median()['Tumor Volume (mm3)']\n",
    "col_var = clean_df.groupby('Drug Regimen').var()['Tumor Volume (mm3)']\n",
    "col_sd = clean_df.groupby('Drug Regimen').std()['Tumor Volume (mm3)']\n",
    "col_sem = clean_df.groupby('Drug Regimen').sem()['Tumor Volume (mm3)']\n",
    "summary_regimen = pd.DataFrame({'Mean(Tumor Vol)': col_mean,\n",
    "                              'Median(Tumor Vol)': col_median,\n",
    "                              'Var(Tumor Vol)': col_var,\n",
    "                              'SD(Tumor Vol)': col_sd,\n",
    "                              'SEM(Tumor Vol)': col_sem})"
   ]
  },
  {
   "cell_type": "code",
   "execution_count": 276,
   "metadata": {},
   "outputs": [
    {
     "name": "stdout",
     "output_type": "stream",
     "text": [
      "              Mean(Tumor Vol)  Median(Tumor Vol)  Var(Tumor Vol)  \\\n",
      "Drug Regimen                                                       \n",
      "Capomulin           40.675741          41.557809       24.947764   \n",
      "Ceftamin            52.591172          51.776157       39.290177   \n",
      "Infubinol           52.884795          51.820584       43.128684   \n",
      "Ketapril            55.235638          53.698743       68.553577   \n",
      "Naftisol            54.331565          52.509285       66.173479   \n",
      "Placebo             54.033581          52.288934       61.168083   \n",
      "Propriva            52.320930          50.446266       43.852013   \n",
      "Ramicane            40.216745          40.673236       23.486704   \n",
      "Stelasyn            54.233149          52.431737       59.450562   \n",
      "Zoniferol           53.236507          51.818479       48.533355   \n",
      "\n",
      "              SD(Tumor Vol)  SEM(Tumor Vol)  \n",
      "Drug Regimen                                 \n",
      "Capomulin          4.994774        0.329346  \n",
      "Ceftamin           6.268188        0.469821  \n",
      "Infubinol          6.567243        0.492236  \n",
      "Ketapril           8.279709        0.603860  \n",
      "Naftisol           8.134708        0.596466  \n",
      "Placebo            7.821003        0.581331  \n",
      "Propriva           6.622085        0.544332  \n",
      "Ramicane           4.846308        0.320955  \n",
      "Stelasyn           7.710419        0.573111  \n",
      "Zoniferol          6.966589        0.516398  \n"
     ]
    }
   ],
   "source": [
    "print(summary_regimen)"
   ]
  },
  {
   "cell_type": "code",
   "execution_count": 277,
   "metadata": {},
   "outputs": [],
   "source": [
    "# Generate a summary statistics table of mean, median, variance, standard deviation, and SEM of the tumor volume for each regimen\n",
    "\n",
    "# Using the aggregation method, produce the same summary statistics in a single line\n",
    "summary_regimen2 = clean_df.groupby('Drug Regimen').agg(['mean', 'median', 'var', 'std', 'sem'])[\"Tumor Volume (mm3)\"]"
   ]
  },
  {
   "cell_type": "code",
   "execution_count": 278,
   "metadata": {},
   "outputs": [
    {
     "data": {
      "text/html": [
       "<div>\n",
       "<style scoped>\n",
       "    .dataframe tbody tr th:only-of-type {\n",
       "        vertical-align: middle;\n",
       "    }\n",
       "\n",
       "    .dataframe tbody tr th {\n",
       "        vertical-align: top;\n",
       "    }\n",
       "\n",
       "    .dataframe thead th {\n",
       "        text-align: right;\n",
       "    }\n",
       "</style>\n",
       "<table border=\"1\" class=\"dataframe\">\n",
       "  <thead>\n",
       "    <tr style=\"text-align: right;\">\n",
       "      <th></th>\n",
       "      <th>mean</th>\n",
       "      <th>median</th>\n",
       "      <th>var</th>\n",
       "      <th>std</th>\n",
       "      <th>sem</th>\n",
       "    </tr>\n",
       "    <tr>\n",
       "      <th>Drug Regimen</th>\n",
       "      <th></th>\n",
       "      <th></th>\n",
       "      <th></th>\n",
       "      <th></th>\n",
       "      <th></th>\n",
       "    </tr>\n",
       "  </thead>\n",
       "  <tbody>\n",
       "    <tr>\n",
       "      <th>Capomulin</th>\n",
       "      <td>40.675741</td>\n",
       "      <td>41.557809</td>\n",
       "      <td>24.947764</td>\n",
       "      <td>4.994774</td>\n",
       "      <td>0.329346</td>\n",
       "    </tr>\n",
       "    <tr>\n",
       "      <th>Ceftamin</th>\n",
       "      <td>52.591172</td>\n",
       "      <td>51.776157</td>\n",
       "      <td>39.290177</td>\n",
       "      <td>6.268188</td>\n",
       "      <td>0.469821</td>\n",
       "    </tr>\n",
       "    <tr>\n",
       "      <th>Infubinol</th>\n",
       "      <td>52.884795</td>\n",
       "      <td>51.820584</td>\n",
       "      <td>43.128684</td>\n",
       "      <td>6.567243</td>\n",
       "      <td>0.492236</td>\n",
       "    </tr>\n",
       "    <tr>\n",
       "      <th>Ketapril</th>\n",
       "      <td>55.235638</td>\n",
       "      <td>53.698743</td>\n",
       "      <td>68.553577</td>\n",
       "      <td>8.279709</td>\n",
       "      <td>0.603860</td>\n",
       "    </tr>\n",
       "    <tr>\n",
       "      <th>Naftisol</th>\n",
       "      <td>54.331565</td>\n",
       "      <td>52.509285</td>\n",
       "      <td>66.173479</td>\n",
       "      <td>8.134708</td>\n",
       "      <td>0.596466</td>\n",
       "    </tr>\n",
       "    <tr>\n",
       "      <th>Placebo</th>\n",
       "      <td>54.033581</td>\n",
       "      <td>52.288934</td>\n",
       "      <td>61.168083</td>\n",
       "      <td>7.821003</td>\n",
       "      <td>0.581331</td>\n",
       "    </tr>\n",
       "    <tr>\n",
       "      <th>Propriva</th>\n",
       "      <td>52.320930</td>\n",
       "      <td>50.446266</td>\n",
       "      <td>43.852013</td>\n",
       "      <td>6.622085</td>\n",
       "      <td>0.544332</td>\n",
       "    </tr>\n",
       "    <tr>\n",
       "      <th>Ramicane</th>\n",
       "      <td>40.216745</td>\n",
       "      <td>40.673236</td>\n",
       "      <td>23.486704</td>\n",
       "      <td>4.846308</td>\n",
       "      <td>0.320955</td>\n",
       "    </tr>\n",
       "    <tr>\n",
       "      <th>Stelasyn</th>\n",
       "      <td>54.233149</td>\n",
       "      <td>52.431737</td>\n",
       "      <td>59.450562</td>\n",
       "      <td>7.710419</td>\n",
       "      <td>0.573111</td>\n",
       "    </tr>\n",
       "    <tr>\n",
       "      <th>Zoniferol</th>\n",
       "      <td>53.236507</td>\n",
       "      <td>51.818479</td>\n",
       "      <td>48.533355</td>\n",
       "      <td>6.966589</td>\n",
       "      <td>0.516398</td>\n",
       "    </tr>\n",
       "  </tbody>\n",
       "</table>\n",
       "</div>"
      ],
      "text/plain": [
       "                   mean     median        var       std       sem\n",
       "Drug Regimen                                                     \n",
       "Capomulin     40.675741  41.557809  24.947764  4.994774  0.329346\n",
       "Ceftamin      52.591172  51.776157  39.290177  6.268188  0.469821\n",
       "Infubinol     52.884795  51.820584  43.128684  6.567243  0.492236\n",
       "Ketapril      55.235638  53.698743  68.553577  8.279709  0.603860\n",
       "Naftisol      54.331565  52.509285  66.173479  8.134708  0.596466\n",
       "Placebo       54.033581  52.288934  61.168083  7.821003  0.581331\n",
       "Propriva      52.320930  50.446266  43.852013  6.622085  0.544332\n",
       "Ramicane      40.216745  40.673236  23.486704  4.846308  0.320955\n",
       "Stelasyn      54.233149  52.431737  59.450562  7.710419  0.573111\n",
       "Zoniferol     53.236507  51.818479  48.533355  6.966589  0.516398"
      ]
     },
     "execution_count": 278,
     "metadata": {},
     "output_type": "execute_result"
    }
   ],
   "source": [
    "summary_regimen2"
   ]
  },
  {
   "cell_type": "markdown",
   "metadata": {},
   "source": [
    "## Bar and Pie Charts"
   ]
  },
  {
   "cell_type": "code",
   "execution_count": 279,
   "metadata": {},
   "outputs": [
    {
     "data": {
      "image/png": "[encoded data removed]",
      "text/plain": [
       "<Figure size 432x288 with 1 Axes>"
      ]
     },
     "metadata": {
      "needs_background": "light"
     },
     "output_type": "display_data"
    },
    {
     "data": {
      "text/plain": [
       "<Figure size 432x288 with 0 Axes>"
      ]
     },
     "metadata": {},
     "output_type": "display_data"
    }
   ],
   "source": [
    "#### Generate a bar plot showing the total number of measurements taken on each drug regimen using pandas.\n",
    "## total number of measurements = count of timepoints per drug regimen\n",
    "measurements = clean_df.groupby(\"Drug Regimen\").count()[\"Timepoint\"]\n",
    "measurements_bar = measurements.plot(kind=\"bar\", color = \"#659ab5\")\n",
    "plt.title(\"Measurements Taken per Drug\")\n",
    "plt.xlabel(\"Drug Regimen\")\n",
    "plt.ylabel(\"No. of Measurements\")\n",
    "plt.xticks(rotation=45)\n",
    "plt.show()\n",
    "plt.savefig('images/measurements_pandasplot.png')"
   ]
  },
  {
   "cell_type": "code",
   "execution_count": 280,
   "metadata": {},
   "outputs": [
    {
     "data": {
      "image/png": "[encoded data removed]",
      "text/plain": [
       "<Figure size 432x288 with 1 Axes>"
      ]
     },
     "metadata": {
      "needs_background": "light"
     },
     "output_type": "display_data"
    },
    {
     "data": {
      "text/plain": [
       "<Figure size 432x288 with 0 Axes>"
      ]
     },
     "metadata": {},
     "output_type": "display_data"
    }
   ],
   "source": [
    "# Generate a bar plot showing the total number of measurements taken on each drug regimen using pyplot.\n",
    "x_axis = np.arange(len(col_regimen))\n",
    "#create ticks\n",
    "tick_locs = [value for value in x_axis]\n",
    "plt.bar(x_axis, measurements, color=\"#866b99\", align=\"center\")\n",
    "plt.xlabel(\"Drug Regimen\")\n",
    "plt.ylabel(\"No. of Measurements\")\n",
    "plt.xticks(ticks=tick_locs, rotation=45, labels=measurements.index)\n",
    "plt.title(\"Measurements Taken per Drug\")\n",
    "plt.show()\n",
    "plt.savefig(\"images/measurements_matplotlib.png\")"
   ]
  },
  {
   "cell_type": "code",
   "execution_count": 281,
   "metadata": {},
   "outputs": [
    {
     "data": {
      "image/png": "[encoded data removed]",
      "text/plain": [
       "<Figure size 432x288 with 1 Axes>"
      ]
     },
     "metadata": {},
     "output_type": "display_data"
    }
   ],
   "source": [
    "# Generate a pie plot showing the distribution of female versus male mice using pandas\n",
    "unique_mice = clean_df.drop_duplicates(subset=\"Mouse ID\")\n",
    "sexes = unique_mice[\"Sex\"].value_counts()\n",
    "sexes.plot(kind=\"pie\", legend=True, autopct=\"%1.1f%%\", labels=None, title=\"Sex Distribution of Mice\",\n",
    "          colors=['#1e458e', '#Bf67c0'])\n",
    "plt.savefig('images/sexes_pandas.png')"
   ]
  },
  {
   "cell_type": "code",
   "execution_count": 282,
   "metadata": {},
   "outputs": [
    {
     "data": {
      "image/png": "[encoded data removed]",
      "text/plain": [
       "<Figure size 432x288 with 1 Axes>"
      ]
     },
     "metadata": {},
     "output_type": "display_data"
    },
    {
     "data": {
      "text/plain": [
       "<Figure size 432x288 with 0 Axes>"
      ]
     },
     "metadata": {},
     "output_type": "display_data"
    }
   ],
   "source": [
    "# Generate a pie plot showing the distribution of female versus male mice using pyplot\n",
    "\n",
    "plt.pie(sexes, labels=None, autopct=\"%1.1f%%\", shadow=True, colors=['#1e458e', '#Bf67c0'],\n",
    "       startangle=90)\n",
    "plt.title(\"Sex Distribution of Mice\")\n",
    "plt.legend([\"Male\", \"Female\"])\n",
    "plt.show()\n",
    "plt.savefig('images/sexes_matplotlib.png')"
   ]
  },
  {
   "cell_type": "markdown",
   "metadata": {},
   "source": [
    "## Quartiles, Outliers and Boxplots"
   ]
  },
  {
   "cell_type": "code",
   "execution_count": 283,
   "metadata": {},
   "outputs": [],
   "source": [
    "# Calculate the final tumor volume of each mouse across four of the treatment regimens:  \n",
    "# Capomulin, Ramicane, Infubinol, and Ceftamin\n",
    "## Start by getting the last (greatest) timepoint for each mouse\n",
    "last_timepoints = clean_df.groupby(\"Mouse ID\").max()[\"Timepoint\"]\n",
    "\n",
    "## Merge this group df with the original dataframe to get the tumor volume at the last timepoint\n",
    "final_df = pd.merge(last_timepoints, clean_df, on=['Mouse ID', 'Timepoint'])"
   ]
  },
  {
   "cell_type": "code",
   "execution_count": 284,
   "metadata": {},
   "outputs": [
    {
     "name": "stdout",
     "output_type": "stream",
     "text": [
      "Tumor volumes in the Capomulin treatment group that are below 20.7 or above 51.83 could be considered outliers.\n",
      "There are 0 potential outliers in the Capomulin treatment group.\n",
      "------------------------------------------------------------------\n",
      "Tumor volumes in the Ramicane treatment group that are below 17.91 or above 54.31 could be considered outliers.\n",
      "There are 0 potential outliers in the Ramicane treatment group.\n",
      "------------------------------------------------------------------\n",
      "Tumor volumes in the Infubinol treatment group that are below 36.83 or above 82.74 could be considered outliers.\n",
      "There is 1 potential outlier in the Infubinol treatment group.\n",
      "------------------------------------------------------------------\n",
      "Tumor volumes in the Ceftamin treatment group that are below 25.36 or above 87.67 could be considered outliers.\n",
      "There are 0 potential outliers in the Ceftamin treatment group.\n"
     ]
    }
   ],
   "source": [
    "# Put treatments into a list for for loop (and later for plot labels)\n",
    "treatments = ['Capomulin', 'Ramicane', 'Infubinol', 'Ceftamin']\n",
    "\n",
    "#individual subsets for each treatment\n",
    "capomulin_df = final_df[final_df['Drug Regimen']=='Capomulin']\n",
    "ramicane_df = final_df[final_df['Drug Regimen']=='Ramicane']\n",
    "infubinol_df = final_df[final_df['Drug Regimen']=='Infubinol']\n",
    "ceftamin_df = final_df[final_df['Drug Regimen']=='Ceftamin']\n",
    "\n",
    "#determine outliers for each treatment\n",
    "##capomulin\n",
    "tumor_vols_capo = capomulin_df['Tumor Volume (mm3)']\n",
    "q1_capo = tumor_vols_capo.quantile(0.25)\n",
    "q3_capo = tumor_vols_capo.quantile(0.75)\n",
    "iqr_capo = q3_capo - q1_capo\n",
    "lower_capo = q1_capo - 1.5*iqr_capo\n",
    "upper_capo = q3_capo + 1.5*iqr_capo\n",
    "potential_outliers_capo = capomulin_df[(capomulin_df['Tumor Volume (mm3)']<lower_capo) |\n",
    "                                 (capomulin_df['Tumor Volume (mm3)']>upper_capo)]\n",
    "##ramicane\n",
    "tumor_vols_rami = ramicane_df['Tumor Volume (mm3)']\n",
    "q1_rami = tumor_vols_rami.quantile(0.25)\n",
    "q3_rami = tumor_vols_rami.quantile(0.75)\n",
    "iqr_rami = q3_rami - q1_rami\n",
    "lower_rami = q1_rami - 1.5*iqr_rami\n",
    "upper_rami = q3_rami + 1.5*iqr_rami\n",
    "potential_outliers_rami = ramicane_df[(ramicane_df['Tumor Volume (mm3)']<lower_rami) |\n",
    "                                 (ramicane_df['Tumor Volume (mm3)']>upper_rami)]\n",
    "##infubinol\n",
    "tumor_vols_infu = infubinol_df['Tumor Volume (mm3)']\n",
    "q1_infu = tumor_vols_infu.quantile(0.25)\n",
    "q3_infu = tumor_vols_infu.quantile(0.75)\n",
    "iqr_infu = q3_infu - q1_infu\n",
    "lower_infu = q1_infu - 1.5*iqr_infu\n",
    "upper_infu = q3_infu + 1.5*iqr_infu\n",
    "potential_outliers_infu = infubinol_df[(infubinol_df['Tumor Volume (mm3)']<lower_infu) |\n",
    "                                 (infubinol_df['Tumor Volume (mm3)']>upper_infu)]\n",
    "##ceftamin\n",
    "tumor_vols_ceft = ceftamin_df['Tumor Volume (mm3)']\n",
    "q1_ceft = tumor_vols_ceft.quantile(0.25)\n",
    "q3_ceft = tumor_vols_ceft.quantile(0.75)\n",
    "iqr_ceft = q3_ceft - q1_ceft\n",
    "lower_ceft = q1_ceft - 1.5*iqr_ceft\n",
    "upper_ceft = q3_ceft + 1.5*iqr_ceft\n",
    "potential_outliers_ceft = ceftamin_df[(ceftamin_df['Tumor Volume (mm3)']<lower_ceft) |\n",
    "                                 (ceftamin_df['Tumor Volume (mm3)']>upper_ceft)]\n",
    "\n",
    "print(f'Tumor volumes in the Capomulin treatment group that are below {round(lower_capo,2)} or above {round(upper_capo,2)} could be considered outliers.')\n",
    "print(f'There are {len(potential_outliers_capo)} potential outliers in the Capomulin treatment group.')\n",
    "print('------------------------------------------------------------------')\n",
    "print(f'Tumor volumes in the Ramicane treatment group that are below {round(lower_rami,2)} or above {round(upper_rami,2)} could be considered outliers.')\n",
    "print(f'There are {len(potential_outliers_rami)} potential outliers in the Ramicane treatment group.')\n",
    "print('------------------------------------------------------------------')\n",
    "print(f'Tumor volumes in the Infubinol treatment group that are below {round(lower_infu,2)} or above {round(upper_infu,2)} could be considered outliers.')\n",
    "print(f'There is {len(potential_outliers_infu)} potential outlier in the Infubinol treatment group.')\n",
    "print('------------------------------------------------------------------')\n",
    "print(f'Tumor volumes in the Ceftamin treatment group that are below {round(lower_ceft,2)} or above {round(upper_ceft,2)} could be considered outliers.')\n",
    "print(f'There are {len(potential_outliers_ceft)} potential outliers in the Ceftamin treatment group.')"
   ]
  },
  {
   "cell_type": "code",
   "execution_count": 285,
   "metadata": {},
   "outputs": [
    {
     "data": {
      "image/png": "[encoded data removed]",
      "text/plain": [
       "<Figure size 432x288 with 1 Axes>"
      ]
     },
     "metadata": {
      "needs_background": "light"
     },
     "output_type": "display_data"
    },
    {
     "data": {
      "text/plain": [
       "<Figure size 432x288 with 0 Axes>"
      ]
     },
     "metadata": {},
     "output_type": "display_data"
    }
   ],
   "source": [
    "# Generate a box plot of the final tumor volume of each mouse across four regimens of interest\n",
    "data_list = [capomulin_df['Tumor Volume (mm3)'], \n",
    "             ramicane_df['Tumor Volume (mm3)'], \n",
    "             infubinol_df['Tumor Volume (mm3)'], \n",
    "             ceftamin_df['Tumor Volume (mm3)']]\n",
    "#boxplot\n",
    "bplot = plt.boxplot(x=data_list, labels=treatments, patch_artist=True)\n",
    "#title and axis labels\n",
    "plt.title(\"Final Tumor Volumes for Different Treatments\")\n",
    "plt.xlabel(\"Treatment\")\n",
    "plt.ylabel(\"Tumor Volume (mm3)\")\n",
    "#add color\n",
    "colors = [\"#C0E9AD\",\"#ADDBE9\", \"#D5ADE9\", \"#E9ADCF\"]\n",
    "for patch,color in zip(bplot['boxes'],colors):\n",
    "    patch.set_facecolor(color)\n",
    "#show plot\n",
    "plt.show()\n",
    "#save plot\n",
    "plt.savefig('images/tumorvol_boxplots.png')"
   ]
  },
  {
   "cell_type": "markdown",
   "metadata": {},
   "source": [
    "## Line and Scatter Plots"
   ]
  },
  {
   "cell_type": "code",
   "execution_count": 286,
   "metadata": {},
   "outputs": [
    {
     "data": {
      "image/png": "[encoded data removed]",
      "text/plain": [
       "<Figure size 432x288 with 1 Axes>"
      ]
     },
     "metadata": {
      "needs_background": "light"
     },
     "output_type": "display_data"
    },
    {
     "data": {
      "text/plain": [
       "<Figure size 432x288 with 0 Axes>"
      ]
     },
     "metadata": {},
     "output_type": "display_data"
    }
   ],
   "source": [
    "# Generate a line plot of tumor volume vs. time point for a mouse treated with Capomulin\n",
    "all_capomulin = clean_df[clean_df['Drug Regimen']=='Capomulin']\n",
    "all_mice = all_capomulin['Mouse ID'].unique()\n",
    "random_num = randint(0, len(all_mice))\n",
    "random_id = all_mice[random_num]\n",
    "random_mouse = all_capomulin[all_capomulin['Mouse ID']==random_id]\n",
    "plt.plot(random_mouse['Timepoint'], random_mouse['Tumor Volume (mm3)'], 'o-')\n",
    "plt.title(f'Tumor Volumes of Mouse {random_id}')\n",
    "plt.ylabel('Tumor Volume (mm3)')\n",
    "plt.xlabel('Timepoint')\n",
    "plt.show()\n",
    "plt.savefig('images/random_capo_mouse.png')"
   ]
  },
  {
   "cell_type": "code",
   "execution_count": 287,
   "metadata": {},
   "outputs": [
    {
     "data": {
      "image/png": "[encoded data removed]",
      "text/plain": [
       "<Figure size 432x288 with 1 Axes>"
      ]
     },
     "metadata": {
      "needs_background": "light"
     },
     "output_type": "display_data"
    },
    {
     "data": {
      "text/plain": [
       "<Figure size 432x288 with 0 Axes>"
      ]
     },
     "metadata": {},
     "output_type": "display_data"
    }
   ],
   "source": [
    "# Generate a scatter plot of average tumor volume vs. mouse weight for the Capomulin regimen\n",
    "capomulin_avg = capomulin_df.groupby('Mouse ID').mean()\n",
    "\n",
    "#scatterplot\n",
    "plt.scatter(capomulin_avg['Tumor Volume (mm3)'], capomulin_avg['Weight (g)'], \n",
    "           marker = \"o\", color=\"#C0E9AD\", edgecolors=\"#75A75D\")\n",
    "#title and axis labels\n",
    "plt.title(\"Avg Tumor Vol vs Weight for Capomulin Treatment\")\n",
    "plt.xlabel(\"Average Tumor Volume (mm3)\")\n",
    "plt.ylabel(\"Mouse Weight (g)\")\n",
    "#show plot\n",
    "plt.show()\n",
    "#save plot\n",
    "plt.savefig('images/capo_tumorvol_weight_scatter.png')\n"
   ]
  },
  {
   "cell_type": "markdown",
   "metadata": {},
   "source": [
    "## Correlation and Regression"
   ]
  },
  {
   "cell_type": "code",
   "execution_count": 288,
   "metadata": {},
   "outputs": [
    {
     "name": "stdout",
     "output_type": "stream",
     "text": [
      "The correlation between tumor volume and mouse weight is 0.88\n"
     ]
    }
   ],
   "source": [
    "# Calculate the correlation coefficient and linear regression model \n",
    "# for mouse weight and average tumor volume for the Capomulin regimen\n",
    "\n",
    "#correlation\n",
    "x_values = capomulin_avg['Tumor Volume (mm3)']\n",
    "y_values = capomulin_avg['Weight (g)']\n",
    "correlation = st.pearsonr(x_values, y_values)\n",
    "print(f'The correlation between tumor volume and mouse weight is {round(correlation[0],2)}')"
   ]
  },
  {
   "cell_type": "code",
   "execution_count": 289,
   "metadata": {},
   "outputs": [
    {
     "data": {
      "image/png": "[encoded data removed]",
      "text/plain": [
       "<Figure size 432x288 with 1 Axes>"
      ]
     },
     "metadata": {
      "needs_background": "light"
     },
     "output_type": "display_data"
    },
    {
     "data": {
      "text/plain": [
       "<Figure size 432x288 with 0 Axes>"
      ]
     },
     "metadata": {},
     "output_type": "display_data"
    }
   ],
   "source": [
    "#linear regression model\n",
    "(slope, intercept, rvalue, pvalue, stderr) = st.linregress(x_values, y_values)\n",
    "regress_values = x_values*slope + intercept\n",
    "line_eq = \"y = \" + str(round(slope,2)) + \"x + \" + str(round(intercept,2))\n",
    "#scatterplot\n",
    "plt.scatter(x_values, y_values, marker = \"o\", color=\"#C0E9AD\", edgecolors=\"#75A75D\")\n",
    "#regression line\n",
    "plt.plot(x_values, regress_values, color=\"#000000\")\n",
    "#title and axis labels\n",
    "plt.title(\"Avg Tumor Vol vs Weight for Capomulin Treatment\")\n",
    "plt.xlabel(\"Average Tumor Volume (mm3)\")\n",
    "plt.ylabel(\"Mouse Weight (g)\")\n",
    "#add regression line equation to plot\n",
    "plt.annotate(line_eq, (33,18), fontsize=12, color=\"#000000\")\n",
    "plt.show()\n",
    "plt.savefig('images/capo_tumorvol_weight_regression.png')"
   ]
  }
 ],
 "metadata": {
  "anaconda-cloud": {},
  "kernelspec": {
   "display_name": "Python 3",
   "language": "python",
   "name": "python3"
  },
  "language_info": {
   "codemirror_mode": {
    "name": "ipython",
    "version": 3
   },
   "file_extension": ".py",
   "mimetype": "text/x-python",
   "name": "python",
   "nbconvert_exporter": "python",
   "pygments_lexer": "ipython3",
   "version": "3.8.5"
  }
 },
 "nbformat": 4,
 "nbformat_minor": 4
}
