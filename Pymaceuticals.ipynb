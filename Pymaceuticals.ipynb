{
 "cells": [
  {
   "cell_type": "markdown",
   "metadata": {},
   "source": [
    "## Observations and Insights "
   ]
  },
  {
   "cell_type": "code",
   "execution_count": null,
   "metadata": {},
   "outputs": [],
   "source": []
  },
  {
   "cell_type": "code",
<<<<<<< HEAD
   "execution_count": 72,
=======
   "execution_count": 18,
>>>>>>> e2292988aa0ae5a108c76c44d4f944c8a2613f82
   "metadata": {},
   "outputs": [
    {
     "data": {
      "text/html": [
       "<div>\n",
       "<style scoped>\n",
       "    .dataframe tbody tr th:only-of-type {\n",
       "        vertical-align: middle;\n",
       "    }\n",
       "\n",
       "    .dataframe tbody tr th {\n",
       "        vertical-align: top;\n",
       "    }\n",
       "\n",
       "    .dataframe thead th {\n",
       "        text-align: right;\n",
       "    }\n",
       "</style>\n",
       "<table border=\"1\" class=\"dataframe\">\n",
       "  <thead>\n",
       "    <tr style=\"text-align: right;\">\n",
       "      <th></th>\n",
       "      <th>Mouse ID</th>\n",
       "      <th>Drug Regimen</th>\n",
       "      <th>Sex</th>\n",
       "      <th>Age_months</th>\n",
       "      <th>Weight (g)</th>\n",
       "      <th>Timepoint</th>\n",
       "      <th>Tumor Volume (mm3)</th>\n",
       "      <th>Metastatic Sites</th>\n",
       "    </tr>\n",
       "  </thead>\n",
       "  <tbody>\n",
       "    <tr>\n",
       "      <th>0</th>\n",
       "      <td>k403</td>\n",
       "      <td>Ramicane</td>\n",
       "      <td>Male</td>\n",
       "      <td>21</td>\n",
       "      <td>16</td>\n",
       "      <td>0</td>\n",
       "      <td>45.000000</td>\n",
       "      <td>0</td>\n",
       "    </tr>\n",
       "    <tr>\n",
       "      <th>1</th>\n",
       "      <td>k403</td>\n",
       "      <td>Ramicane</td>\n",
       "      <td>Male</td>\n",
       "      <td>21</td>\n",
       "      <td>16</td>\n",
       "      <td>5</td>\n",
       "      <td>38.825898</td>\n",
       "      <td>0</td>\n",
       "    </tr>\n",
       "    <tr>\n",
       "      <th>2</th>\n",
       "      <td>k403</td>\n",
       "      <td>Ramicane</td>\n",
       "      <td>Male</td>\n",
       "      <td>21</td>\n",
       "      <td>16</td>\n",
       "      <td>10</td>\n",
       "      <td>35.014271</td>\n",
       "      <td>1</td>\n",
       "    </tr>\n",
       "    <tr>\n",
       "      <th>3</th>\n",
       "      <td>k403</td>\n",
       "      <td>Ramicane</td>\n",
       "      <td>Male</td>\n",
       "      <td>21</td>\n",
       "      <td>16</td>\n",
       "      <td>15</td>\n",
       "      <td>34.223992</td>\n",
       "      <td>1</td>\n",
       "    </tr>\n",
       "    <tr>\n",
       "      <th>4</th>\n",
       "      <td>k403</td>\n",
       "      <td>Ramicane</td>\n",
       "      <td>Male</td>\n",
       "      <td>21</td>\n",
       "      <td>16</td>\n",
       "      <td>20</td>\n",
       "      <td>32.997729</td>\n",
       "      <td>1</td>\n",
       "    </tr>\n",
       "    <tr>\n",
       "      <th>...</th>\n",
       "      <td>...</td>\n",
       "      <td>...</td>\n",
       "      <td>...</td>\n",
       "      <td>...</td>\n",
       "      <td>...</td>\n",
       "      <td>...</td>\n",
       "      <td>...</td>\n",
       "      <td>...</td>\n",
       "    </tr>\n",
       "    <tr>\n",
       "      <th>1888</th>\n",
       "      <td>z969</td>\n",
       "      <td>Naftisol</td>\n",
       "      <td>Male</td>\n",
       "      <td>9</td>\n",
       "      <td>30</td>\n",
       "      <td>25</td>\n",
       "      <td>63.145652</td>\n",
       "      <td>2</td>\n",
       "    </tr>\n",
       "    <tr>\n",
       "      <th>1889</th>\n",
       "      <td>z969</td>\n",
       "      <td>Naftisol</td>\n",
       "      <td>Male</td>\n",
       "      <td>9</td>\n",
       "      <td>30</td>\n",
       "      <td>30</td>\n",
       "      <td>65.841013</td>\n",
       "      <td>3</td>\n",
       "    </tr>\n",
       "    <tr>\n",
       "      <th>1890</th>\n",
       "      <td>z969</td>\n",
       "      <td>Naftisol</td>\n",
       "      <td>Male</td>\n",
       "      <td>9</td>\n",
       "      <td>30</td>\n",
       "      <td>35</td>\n",
       "      <td>69.176246</td>\n",
       "      <td>4</td>\n",
       "    </tr>\n",
       "    <tr>\n",
       "      <th>1891</th>\n",
       "      <td>z969</td>\n",
       "      <td>Naftisol</td>\n",
       "      <td>Male</td>\n",
       "      <td>9</td>\n",
       "      <td>30</td>\n",
       "      <td>40</td>\n",
       "      <td>70.314904</td>\n",
       "      <td>4</td>\n",
       "    </tr>\n",
       "    <tr>\n",
       "      <th>1892</th>\n",
       "      <td>z969</td>\n",
       "      <td>Naftisol</td>\n",
       "      <td>Male</td>\n",
       "      <td>9</td>\n",
       "      <td>30</td>\n",
       "      <td>45</td>\n",
       "      <td>73.867845</td>\n",
       "      <td>4</td>\n",
       "    </tr>\n",
       "  </tbody>\n",
       "</table>\n",
       "<p>1893 rows × 8 columns</p>\n",
       "</div>"
      ],
      "text/plain": [
       "     Mouse ID Drug Regimen   Sex  Age_months  Weight (g)  Timepoint  \\\n",
       "0        k403     Ramicane  Male          21          16          0   \n",
       "1        k403     Ramicane  Male          21          16          5   \n",
       "2        k403     Ramicane  Male          21          16         10   \n",
       "3        k403     Ramicane  Male          21          16         15   \n",
       "4        k403     Ramicane  Male          21          16         20   \n",
       "...       ...          ...   ...         ...         ...        ...   \n",
       "1888     z969     Naftisol  Male           9          30         25   \n",
       "1889     z969     Naftisol  Male           9          30         30   \n",
       "1890     z969     Naftisol  Male           9          30         35   \n",
       "1891     z969     Naftisol  Male           9          30         40   \n",
       "1892     z969     Naftisol  Male           9          30         45   \n",
       "\n",
       "      Tumor Volume (mm3)  Metastatic Sites  \n",
       "0              45.000000                 0  \n",
       "1              38.825898                 0  \n",
       "2              35.014271                 1  \n",
       "3              34.223992                 1  \n",
       "4              32.997729                 1  \n",
       "...                  ...               ...  \n",
       "1888           63.145652                 2  \n",
       "1889           65.841013                 3  \n",
       "1890           69.176246                 4  \n",
       "1891           70.314904                 4  \n",
       "1892           73.867845                 4  \n",
       "\n",
       "[1893 rows x 8 columns]"
      ]
     },
<<<<<<< HEAD
     "execution_count": 72,
=======
     "execution_count": 18,
>>>>>>> e2292988aa0ae5a108c76c44d4f944c8a2613f82
     "metadata": {},
     "output_type": "execute_result"
    }
   ],
   "source": [
    "# Dependencies and Setup\n",
    "import matplotlib.pyplot as plt\n",
    "import pandas as pd\n",
    "import scipy.stats as st\n",
    "import numpy as np\n",
<<<<<<< HEAD
    "from random import randint\n",
    "\n",
=======
>>>>>>> e2292988aa0ae5a108c76c44d4f944c8a2613f82
    "\n",
    "# Study data files\n",
    "mouse_metadata_path = \"data/Mouse_metadata.csv\"\n",
    "study_results_path = \"data/Study_results.csv\"\n",
    "\n",
    "# Read the mouse data and the study results\n",
    "mouse_metadata = pd.read_csv(mouse_metadata_path)\n",
    "study_results = pd.read_csv(study_results_path)\n",
    "\n",
    "# Combine the data into a single dataset\n",
    "df = pd.merge(mouse_metadata, study_results, on=\"Mouse ID\")\n",
    "\n",
    "# Display the data table for preview\n",
    "df"
   ]
  },
  {
   "cell_type": "code",
<<<<<<< HEAD
   "execution_count": 3,
=======
   "execution_count": 19,
>>>>>>> e2292988aa0ae5a108c76c44d4f944c8a2613f82
   "metadata": {},
   "outputs": [
    {
     "name": "stdout",
     "output_type": "stream",
     "text": [
      "There are 249 mice in the dataset\n"
     ]
    }
   ],
   "source": [
    "# Checking the number of mice.\n",
    "num_mice = len(df[\"Mouse ID\"].unique())\n",
    "print(f'There are {num_mice} mice in the dataset')"
   ]
  },
  {
   "cell_type": "code",
<<<<<<< HEAD
   "execution_count": 4,
=======
   "execution_count": 20,
>>>>>>> e2292988aa0ae5a108c76c44d4f944c8a2613f82
   "metadata": {},
   "outputs": [
    {
     "name": "stdout",
     "output_type": "stream",
     "text": [
      "The duplicate rows are from mouse g989\n"
     ]
    }
   ],
   "source": [
    "# Getting the duplicate mice by ID number that shows up for Mouse ID and Timepoint.\n",
    "duplicate_rows = df[df.duplicated(['Mouse ID', 'Timepoint'])]\n",
    "mouse_id = duplicate_rows['Mouse ID'].unique()\n",
    "print(f'The duplicate rows are from mouse {mouse_id[0]}')"
   ]
  },
  {
   "cell_type": "code",
<<<<<<< HEAD
   "execution_count": 5,
=======
   "execution_count": 21,
>>>>>>> e2292988aa0ae5a108c76c44d4f944c8a2613f82
   "metadata": {},
   "outputs": [
    {
     "data": {
      "text/html": [
       "<div>\n",
       "<style scoped>\n",
       "    .dataframe tbody tr th:only-of-type {\n",
       "        vertical-align: middle;\n",
       "    }\n",
       "\n",
       "    .dataframe tbody tr th {\n",
       "        vertical-align: top;\n",
       "    }\n",
       "\n",
       "    .dataframe thead th {\n",
       "        text-align: right;\n",
       "    }\n",
       "</style>\n",
       "<table border=\"1\" class=\"dataframe\">\n",
       "  <thead>\n",
       "    <tr style=\"text-align: right;\">\n",
       "      <th></th>\n",
       "      <th>Mouse ID</th>\n",
       "      <th>Drug Regimen</th>\n",
       "      <th>Sex</th>\n",
       "      <th>Age_months</th>\n",
       "      <th>Weight (g)</th>\n",
       "      <th>Timepoint</th>\n",
       "      <th>Tumor Volume (mm3)</th>\n",
       "      <th>Metastatic Sites</th>\n",
       "    </tr>\n",
       "  </thead>\n",
       "  <tbody>\n",
       "    <tr>\n",
       "      <th>908</th>\n",
       "      <td>g989</td>\n",
       "      <td>Propriva</td>\n",
       "      <td>Female</td>\n",
       "      <td>21</td>\n",
       "      <td>26</td>\n",
       "      <td>0</td>\n",
       "      <td>45.000000</td>\n",
       "      <td>0</td>\n",
       "    </tr>\n",
       "    <tr>\n",
       "      <th>909</th>\n",
       "      <td>g989</td>\n",
       "      <td>Propriva</td>\n",
       "      <td>Female</td>\n",
       "      <td>21</td>\n",
       "      <td>26</td>\n",
       "      <td>0</td>\n",
       "      <td>45.000000</td>\n",
       "      <td>0</td>\n",
       "    </tr>\n",
       "    <tr>\n",
       "      <th>910</th>\n",
       "      <td>g989</td>\n",
       "      <td>Propriva</td>\n",
       "      <td>Female</td>\n",
       "      <td>21</td>\n",
       "      <td>26</td>\n",
       "      <td>5</td>\n",
       "      <td>48.786801</td>\n",
       "      <td>0</td>\n",
       "    </tr>\n",
       "    <tr>\n",
       "      <th>911</th>\n",
       "      <td>g989</td>\n",
       "      <td>Propriva</td>\n",
       "      <td>Female</td>\n",
       "      <td>21</td>\n",
       "      <td>26</td>\n",
       "      <td>5</td>\n",
       "      <td>47.570392</td>\n",
       "      <td>0</td>\n",
       "    </tr>\n",
       "    <tr>\n",
       "      <th>912</th>\n",
       "      <td>g989</td>\n",
       "      <td>Propriva</td>\n",
       "      <td>Female</td>\n",
       "      <td>21</td>\n",
       "      <td>26</td>\n",
       "      <td>10</td>\n",
       "      <td>51.745156</td>\n",
       "      <td>0</td>\n",
       "    </tr>\n",
       "    <tr>\n",
       "      <th>913</th>\n",
       "      <td>g989</td>\n",
       "      <td>Propriva</td>\n",
       "      <td>Female</td>\n",
       "      <td>21</td>\n",
       "      <td>26</td>\n",
       "      <td>10</td>\n",
       "      <td>49.880528</td>\n",
       "      <td>0</td>\n",
       "    </tr>\n",
       "    <tr>\n",
       "      <th>914</th>\n",
       "      <td>g989</td>\n",
       "      <td>Propriva</td>\n",
       "      <td>Female</td>\n",
       "      <td>21</td>\n",
       "      <td>26</td>\n",
       "      <td>15</td>\n",
       "      <td>51.325852</td>\n",
       "      <td>1</td>\n",
       "    </tr>\n",
       "    <tr>\n",
       "      <th>915</th>\n",
       "      <td>g989</td>\n",
       "      <td>Propriva</td>\n",
       "      <td>Female</td>\n",
       "      <td>21</td>\n",
       "      <td>26</td>\n",
       "      <td>15</td>\n",
       "      <td>53.442020</td>\n",
       "      <td>0</td>\n",
       "    </tr>\n",
       "    <tr>\n",
       "      <th>916</th>\n",
       "      <td>g989</td>\n",
       "      <td>Propriva</td>\n",
       "      <td>Female</td>\n",
       "      <td>21</td>\n",
       "      <td>26</td>\n",
       "      <td>20</td>\n",
       "      <td>55.326122</td>\n",
       "      <td>1</td>\n",
       "    </tr>\n",
       "    <tr>\n",
       "      <th>917</th>\n",
       "      <td>g989</td>\n",
       "      <td>Propriva</td>\n",
       "      <td>Female</td>\n",
       "      <td>21</td>\n",
       "      <td>26</td>\n",
       "      <td>20</td>\n",
       "      <td>54.657650</td>\n",
       "      <td>1</td>\n",
       "    </tr>\n",
       "    <tr>\n",
       "      <th>918</th>\n",
       "      <td>g989</td>\n",
       "      <td>Propriva</td>\n",
       "      <td>Female</td>\n",
       "      <td>21</td>\n",
       "      <td>26</td>\n",
       "      <td>25</td>\n",
       "      <td>56.045564</td>\n",
       "      <td>1</td>\n",
       "    </tr>\n",
       "    <tr>\n",
       "      <th>919</th>\n",
       "      <td>g989</td>\n",
       "      <td>Propriva</td>\n",
       "      <td>Female</td>\n",
       "      <td>21</td>\n",
       "      <td>26</td>\n",
       "      <td>30</td>\n",
       "      <td>59.082294</td>\n",
       "      <td>1</td>\n",
       "    </tr>\n",
       "    <tr>\n",
       "      <th>920</th>\n",
       "      <td>g989</td>\n",
       "      <td>Propriva</td>\n",
       "      <td>Female</td>\n",
       "      <td>21</td>\n",
       "      <td>26</td>\n",
       "      <td>35</td>\n",
       "      <td>62.570880</td>\n",
       "      <td>2</td>\n",
       "    </tr>\n",
       "  </tbody>\n",
       "</table>\n",
       "</div>"
      ],
      "text/plain": [
       "    Mouse ID Drug Regimen     Sex  Age_months  Weight (g)  Timepoint  \\\n",
       "908     g989     Propriva  Female          21          26          0   \n",
       "909     g989     Propriva  Female          21          26          0   \n",
       "910     g989     Propriva  Female          21          26          5   \n",
       "911     g989     Propriva  Female          21          26          5   \n",
       "912     g989     Propriva  Female          21          26         10   \n",
       "913     g989     Propriva  Female          21          26         10   \n",
       "914     g989     Propriva  Female          21          26         15   \n",
       "915     g989     Propriva  Female          21          26         15   \n",
       "916     g989     Propriva  Female          21          26         20   \n",
       "917     g989     Propriva  Female          21          26         20   \n",
       "918     g989     Propriva  Female          21          26         25   \n",
       "919     g989     Propriva  Female          21          26         30   \n",
       "920     g989     Propriva  Female          21          26         35   \n",
       "\n",
       "     Tumor Volume (mm3)  Metastatic Sites  \n",
       "908           45.000000                 0  \n",
       "909           45.000000                 0  \n",
       "910           48.786801                 0  \n",
       "911           47.570392                 0  \n",
       "912           51.745156                 0  \n",
       "913           49.880528                 0  \n",
       "914           51.325852                 1  \n",
       "915           53.442020                 0  \n",
       "916           55.326122                 1  \n",
       "917           54.657650                 1  \n",
       "918           56.045564                 1  \n",
       "919           59.082294                 1  \n",
       "920           62.570880                 2  "
      ]
     },
<<<<<<< HEAD
     "execution_count": 5,
=======
     "execution_count": 21,
>>>>>>> e2292988aa0ae5a108c76c44d4f944c8a2613f82
     "metadata": {},
     "output_type": "execute_result"
    }
   ],
   "source": [
    "# Optional: Get all the data for the duplicate mouse ID. \n",
    "all_duplicate_data = df[df['Mouse ID']==mouse_id[0]]\n",
    "all_duplicate_data"
   ]
  },
  {
   "cell_type": "code",
<<<<<<< HEAD
   "execution_count": 6,
=======
   "execution_count": 22,
>>>>>>> e2292988aa0ae5a108c76c44d4f944c8a2613f82
   "metadata": {},
   "outputs": [],
   "source": [
    "# Create a clean DataFrame by dropping the duplicate mouse by its ID.\n",
    "clean_df = df[df['Mouse ID']!=mouse_id[0]]"
   ]
  },
  {
   "cell_type": "code",
<<<<<<< HEAD
   "execution_count": 7,
=======
   "execution_count": 23,
>>>>>>> e2292988aa0ae5a108c76c44d4f944c8a2613f82
   "metadata": {},
   "outputs": [
    {
     "name": "stdout",
     "output_type": "stream",
     "text": [
      "There are 248 mice in the clean dataset\n"
     ]
    }
   ],
   "source": [
    "# Checking the number of mice in the clean DataFrame.\n",
    "num_mice = len(clean_df[\"Mouse ID\"].unique())\n",
    "print(f'There are {num_mice} mice in the clean dataset')"
   ]
  },
  {
   "cell_type": "markdown",
   "metadata": {},
   "source": [
    "## Summary Statistics"
   ]
  },
  {
   "cell_type": "code",
<<<<<<< HEAD
   "execution_count": 8,
=======
   "execution_count": 24,
>>>>>>> e2292988aa0ae5a108c76c44d4f944c8a2613f82
   "metadata": {},
   "outputs": [
    {
     "name": "stdout",
     "output_type": "stream",
     "text": [
      "             Drug Regimen  Mean(Tumor Vol)  Var(Tumor Vol)  SD(Tumor Vol)  \\\n",
      "Drug Regimen                                                                \n",
      "Capomulin       Capomulin        40.675741       24.947764       4.994774   \n",
      "Ceftamin         Ceftamin        52.591172       39.290177       6.268188   \n",
      "Infubinol       Infubinol        52.884795       43.128684       6.567243   \n",
      "Ketapril         Ketapril        55.235638       68.553577       8.279709   \n",
      "Naftisol         Naftisol        54.331565       66.173479       8.134708   \n",
      "Placebo           Placebo        54.033581       61.168083       7.821003   \n",
      "Propriva         Propriva        52.320930       43.852013       6.622085   \n",
      "Ramicane         Ramicane        40.216745       23.486704       4.846308   \n",
      "Stelasyn         Stelasyn        54.233149       59.450562       7.710419   \n",
      "Zoniferol       Zoniferol        53.236507       48.533355       6.966589   \n",
      "\n",
      "              SEM(Tumor Vol)  \n",
      "Drug Regimen                  \n",
      "Capomulin           0.329346  \n",
      "Ceftamin            0.469821  \n",
      "Infubinol           0.492236  \n",
      "Ketapril            0.603860  \n",
      "Naftisol            0.596466  \n",
      "Placebo             0.581331  \n",
      "Propriva            0.544332  \n",
      "Ramicane            0.320955  \n",
      "Stelasyn            0.573111  \n",
      "Zoniferol           0.516398  \n"
     ]
    }
   ],
   "source": [
    "# Generate a summary statistics table of mean, median, variance, standard deviation, and SEM of the tumor volume for each regimen\n",
    "\n",
    "# Use groupby and summary statistical methods to calculate the following properties of each drug regimen: \n",
    "# mean, median, variance, standard deviation, and SEM of the tumor volume. \n",
    "# Assemble the resulting series into a single summary dataframe.\n",
    "col_mean = clean_df.groupby('Drug Regimen').mean()['Tumor Volume (mm3)']\n",
    "col_median = clean_df.groupby('Drug Regimen').median()['Tumor Volume (mm3)']\n",
    "col_var = clean_df.groupby('Drug Regimen').var()['Tumor Volume (mm3)']\n",
    "col_sd = clean_df.groupby('Drug Regimen').std()['Tumor Volume (mm3)']\n",
    "col_sem = clean_df.groupby('Drug Regimen').sem()['Tumor Volume (mm3)']\n",
    "col_regimen = col_mean.index\n",
    "summary_regimen = pd.DataFrame({'Drug Regimen': col_regimen,\n",
    "                              'Mean(Tumor Vol)': col_mean,\n",
    "                              'Var(Tumor Vol)': col_var,\n",
    "                              'SD(Tumor Vol)': col_sd,\n",
    "                              'SEM(Tumor Vol)': col_sem})\n",
    "print(summary_regimen)\n"
   ]
  },
  {
   "cell_type": "code",
<<<<<<< HEAD
   "execution_count": 9,
=======
   "execution_count": 25,
>>>>>>> e2292988aa0ae5a108c76c44d4f944c8a2613f82
   "metadata": {},
   "outputs": [
    {
     "data": {
      "text/html": [
       "<div>\n",
       "<style scoped>\n",
       "    .dataframe tbody tr th:only-of-type {\n",
       "        vertical-align: middle;\n",
       "    }\n",
       "\n",
       "    .dataframe tbody tr th {\n",
       "        vertical-align: top;\n",
       "    }\n",
       "\n",
       "    .dataframe thead th {\n",
       "        text-align: right;\n",
       "    }\n",
       "</style>\n",
       "<table border=\"1\" class=\"dataframe\">\n",
       "  <thead>\n",
       "    <tr style=\"text-align: right;\">\n",
       "      <th></th>\n",
       "      <th>mean</th>\n",
       "      <th>median</th>\n",
       "      <th>var</th>\n",
       "      <th>std</th>\n",
       "      <th>sem</th>\n",
       "    </tr>\n",
       "    <tr>\n",
       "      <th>Drug Regimen</th>\n",
       "      <th></th>\n",
       "      <th></th>\n",
       "      <th></th>\n",
       "      <th></th>\n",
       "      <th></th>\n",
       "    </tr>\n",
       "  </thead>\n",
       "  <tbody>\n",
       "    <tr>\n",
       "      <th>Capomulin</th>\n",
       "      <td>40.675741</td>\n",
       "      <td>41.557809</td>\n",
       "      <td>24.947764</td>\n",
       "      <td>4.994774</td>\n",
       "      <td>0.329346</td>\n",
       "    </tr>\n",
       "    <tr>\n",
       "      <th>Ceftamin</th>\n",
       "      <td>52.591172</td>\n",
       "      <td>51.776157</td>\n",
       "      <td>39.290177</td>\n",
       "      <td>6.268188</td>\n",
       "      <td>0.469821</td>\n",
       "    </tr>\n",
       "    <tr>\n",
       "      <th>Infubinol</th>\n",
       "      <td>52.884795</td>\n",
       "      <td>51.820584</td>\n",
       "      <td>43.128684</td>\n",
       "      <td>6.567243</td>\n",
       "      <td>0.492236</td>\n",
       "    </tr>\n",
       "    <tr>\n",
       "      <th>Ketapril</th>\n",
       "      <td>55.235638</td>\n",
       "      <td>53.698743</td>\n",
       "      <td>68.553577</td>\n",
       "      <td>8.279709</td>\n",
       "      <td>0.603860</td>\n",
       "    </tr>\n",
       "    <tr>\n",
       "      <th>Naftisol</th>\n",
       "      <td>54.331565</td>\n",
       "      <td>52.509285</td>\n",
       "      <td>66.173479</td>\n",
       "      <td>8.134708</td>\n",
       "      <td>0.596466</td>\n",
       "    </tr>\n",
       "    <tr>\n",
       "      <th>Placebo</th>\n",
       "      <td>54.033581</td>\n",
       "      <td>52.288934</td>\n",
       "      <td>61.168083</td>\n",
       "      <td>7.821003</td>\n",
       "      <td>0.581331</td>\n",
       "    </tr>\n",
       "    <tr>\n",
       "      <th>Propriva</th>\n",
       "      <td>52.320930</td>\n",
       "      <td>50.446266</td>\n",
       "      <td>43.852013</td>\n",
       "      <td>6.622085</td>\n",
       "      <td>0.544332</td>\n",
       "    </tr>\n",
       "    <tr>\n",
       "      <th>Ramicane</th>\n",
       "      <td>40.216745</td>\n",
       "      <td>40.673236</td>\n",
       "      <td>23.486704</td>\n",
       "      <td>4.846308</td>\n",
       "      <td>0.320955</td>\n",
       "    </tr>\n",
       "    <tr>\n",
       "      <th>Stelasyn</th>\n",
       "      <td>54.233149</td>\n",
       "      <td>52.431737</td>\n",
       "      <td>59.450562</td>\n",
       "      <td>7.710419</td>\n",
       "      <td>0.573111</td>\n",
       "    </tr>\n",
       "    <tr>\n",
       "      <th>Zoniferol</th>\n",
       "      <td>53.236507</td>\n",
       "      <td>51.818479</td>\n",
       "      <td>48.533355</td>\n",
       "      <td>6.966589</td>\n",
       "      <td>0.516398</td>\n",
       "    </tr>\n",
       "  </tbody>\n",
       "</table>\n",
       "</div>"
      ],
      "text/plain": [
       "                   mean     median        var       std       sem\n",
       "Drug Regimen                                                     \n",
       "Capomulin     40.675741  41.557809  24.947764  4.994774  0.329346\n",
       "Ceftamin      52.591172  51.776157  39.290177  6.268188  0.469821\n",
       "Infubinol     52.884795  51.820584  43.128684  6.567243  0.492236\n",
       "Ketapril      55.235638  53.698743  68.553577  8.279709  0.603860\n",
       "Naftisol      54.331565  52.509285  66.173479  8.134708  0.596466\n",
       "Placebo       54.033581  52.288934  61.168083  7.821003  0.581331\n",
       "Propriva      52.320930  50.446266  43.852013  6.622085  0.544332\n",
       "Ramicane      40.216745  40.673236  23.486704  4.846308  0.320955\n",
       "Stelasyn      54.233149  52.431737  59.450562  7.710419  0.573111\n",
       "Zoniferol     53.236507  51.818479  48.533355  6.966589  0.516398"
      ]
     },
<<<<<<< HEAD
     "execution_count": 9,
=======
     "execution_count": 25,
>>>>>>> e2292988aa0ae5a108c76c44d4f944c8a2613f82
     "metadata": {},
     "output_type": "execute_result"
    }
   ],
   "source": [
    "# Generate a summary statistics table of mean, median, variance, standard deviation, and SEM of the tumor volume for each regimen\n",
    "\n",
    "# Using the aggregation method, produce the same summary statistics in a single line\n",
    "summary_regimen2 = clean_df.groupby('Drug Regimen').agg(['mean', 'median', 'var', 'std', 'sem'])[\"Tumor Volume (mm3)\"]\n",
    "summary_regimen2"
   ]
  },
  {
   "cell_type": "markdown",
   "metadata": {},
   "source": [
    "## Bar and Pie Charts"
   ]
  },
  {
   "cell_type": "code",
<<<<<<< HEAD
   "execution_count": 10,
=======
   "execution_count": 26,
>>>>>>> e2292988aa0ae5a108c76c44d4f944c8a2613f82
   "metadata": {},
   "outputs": [
    {
     "data": {
<<<<<<< HEAD
      "image/png": "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\n",
=======
      "image/png": "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\n",
>>>>>>> e2292988aa0ae5a108c76c44d4f944c8a2613f82
      "text/plain": [
       "<Figure size 432x288 with 1 Axes>"
      ]
     },
     "metadata": {
      "needs_background": "light"
     },
     "output_type": "display_data"
    }
   ],
   "source": [
<<<<<<< HEAD
    "#### Generate a bar plot showing the total number of measurements taken on each drug regimen using pandas.\n",
    "## total number of measurements = count of timepoints per drug regimen\n",
    "measurements = clean_df.groupby(\"Drug Regimen\").count()[\"Timepoint\"]\n",
    "measurements_bar = measurements.plot(kind=\"bar\", color = \"#659ab5\")\n",
    "plt.title(\"Measurements Taken per Drug\")\n",
    "plt.xlabel(\"Drug Regimen\")\n",
    "plt.ylabel(\"No. of Measurements\")\n",
    "plt.xticks(rotation=45)\n",
    "plt.show()\n",
    "plt.savefigure('images/measurements_pandasplot.png')"
=======
    "# Generate a bar plot showing the total number of measurements taken on each drug regimen using pandas.\n",
    "## total number of measurements = count of timepoints per drug regimen\n",
    "measurements = clean_df.groupby(\"Drug Regimen\").count()[\"Timepoint\"]\n",
    "measurements_bar = measurements.plot(kind=\"bar\", color = \"#659ab5\")\n",
    "plt.title =(\"Measurements Taken per Drug\")\n",
    "plt.xlabel(\"Drug Regimen\")\n",
    "plt.ylabel(\"No. of Measurements\")\n",
    "plt.xticks(rotation=45)\n",
    "\n",
    "plt.show()\n"
>>>>>>> e2292988aa0ae5a108c76c44d4f944c8a2613f82
   ]
  },
  {
   "cell_type": "code",
<<<<<<< HEAD
   "execution_count": 11,
=======
   "execution_count": 34,
>>>>>>> e2292988aa0ae5a108c76c44d4f944c8a2613f82
   "metadata": {},
   "outputs": [
    {
     "data": {
<<<<<<< HEAD
      "image/png": "iVBORw0KGgoAAAANSUhEUgAAAYUAAAE5CAYAAAB/KzxGAAAAOXRFWHRTb2Z0d2FyZQBNYXRwbG90bGliIHZlcnNpb24zLjMuMiwgaHR0cHM6Ly9tYXRwbG90bGliLm9yZy8vihELAAAACXBIWXMAAAsTAAALEwEAmpwYAAA3JUlEQVR4nO3dd7wcZdn/8c83EAiQEEoC0pIgUgSRFkQUpUMAKRaaioBIpEtTikh5BMEGFgQJForSpCoqCogiKI8GRBER4QcIPCAdqSLl+v1x3btnOJyTbHJmziYn3/frta+zM7tn73tmZ+e629yjiMDMzAxgWLczYGZmsw4HBTMza3NQMDOzNgcFMzNrc1AwM7M2BwUzM2tzUDCbxUgKSW/pdj5szuSgMAeRdJ+k/0oa02v9reVENKFLWZullf22yUz833OVx2uSXqwsf6SJvM4qJJ1VjrVny+Ovkk6UNLrbebNpc1CY89wL7NxakLQqMF/3svNGSrP9sRkRI1sP4H5g68q6H3Y7f3WRNHc/L30pIkYBY4HdgXcCN0paYAY/xwbRbP/Dsxl2LvCxyvKuwDnVN0iaV9JXJN0v6RFJ35Y0X3ltYUlXSnpM0lPl+dKV/91N0j2ldHhvq0Qs6VhJP6i8b0Kpncxdln8t6QRJNwIvAG+WtJKkqyU9KelOSTtU/v8sSadJ+nkped8o6U2Svlby9XdJa1Tev6SkS0q+75V0QOW1YyVdJOmcku/bJU0sr50LjAN+UtL5jKQRkn4g6QlJT0v6o6TFO/0CJL1D0u/L/z4s6VRJ8/Tz3vUkPSBpw7L8cUl3lG38haTxlfeGpL0k3VVe/5Yk9fO5x0q6WNKFZZtvkbTaDOyvi8s+eAbYbVrbGxH/iYg/AtsAi5IBonWs3CjpFElPAsd2cJwsK+n6kudryjb+oK90beY4KMx5bgIWlPRWSXMBOwK9f1RfBFYAVgfeAiwFHF1eGwZ8HxhPnixfBE4FKCXAbwBblBLiu4BbZyBvuwCTgVHAY8DVwHnAYmTt5jRJq1TevwNwFDAGeAn4PXBLWb4YOLnkaxjwE+DPZVs2Bg6UtHnls7YBLgAWAn7c2qaI2IXXl/K/RAbS0cAy5Elur7IfOvUqcFDJ57olP/v0flPJ3/nAByPiOknbAUcCHyBL378tr1e9D1gbWK3sn83p37bAj4BFyP18uaThHe6vbcl9vBDQUa0nIp4lv9P3VFavA9xDfscndPAx5wF/IPf7seQxYzVyUJgztWoLmwJ/B/6v9UIpWe4JHBQRT5Yf8heAnQAi4omIuCQiXiivnQCsX/ns14C3SZovIh6OiNtnIF9nRcTtEfEKMAm4LyK+HxGvRMQtwCXAhyrvvywibo6I/wCXAf+JiHMi4lXgQqBVU1gbGBsR/xMR/42Ie4AzW9tU3BARPyv/ey55Uu3Py+RJ6S0R8WrJwzOdbmR5/01lu+4DzuD1+xBge2AKsGVE/KGs+yRwYkTcUfbRF4DVq7UF4KSIeDoi7geuIwN7f26OiIsj4mUygI4gm3g62V+/j4jLI+K1iJiRgPgQGYTayxHxzbIvpvk5ksaVvB1d8nUDGcCtRm7DmzOdC1wPLEuvpiOyBDo/cHOl5UHAXACS5gdOIU/aC5fXR0maKyKel7QjcCjw3dIUdEhE/L3DfD1QeT4eWEfS05V1c5e8tzxSef5iH8sjK5+1ZK/Pmossabf8q/L8BWCEpLnLybe3c8lawgWSFiJrWp8tJ9fpkrQCeRKeSO7ruYGbe73tQOCciLitsm488HVJX61+HFma/2c/2zGS/rX3d0S8JulBYEkgmP7+qn5XM2Ip4MmZ/JwlgScj4oVe/7/MTObF+uCawhwoIv5JdjhvCVza6+XHyRPqKhGxUHmMLp2lAIcAKwLrRMSCwHvLepXP/kVEbAosQdZCziyvP0+eAFve1FfWKs8fAH5TycNCpflm75nY5AeAe3t91qiI2LLD/3/dVMIR8XJEHBcRK5NNZO/j9f0003M6uW+WL/vwSMr+q9ge2E7Sgb2245O9tmO+iPjdDKRd1T6ZliajpcmSfCf7a4anV5Y0EtiE1weX3p8zrePkYWCRUjB5wzZYPRwU5lx7ABtFxPPVlRHxGnkiP0XSYgCSlqq0J48ig8bTkhYBjmn9r6TFJW1T+hZeAp4j288h+xbeK2mccljiEdPJ35XACpJ2Ke3cwyWtLemtM7GtfwCekXSYpPkkzSXpbZLW7vD/HwHe3FqQtKGkVUufzDNkc9Kr/f1zH0aV/3tO0kpAX4HuIbIt/wBJrf6GbwNHtPpVJI2WtP0MpNvbWpI+UDpxDyS/s5sY+P56HeXAhbWAy4GnyD6p/txKP8dJKcxMJTuk55G0LrD1zOTJ+uegMIeKiP8XEVP7efkw4G7gpjK65BqydgDwNXII6+PkCeSqyv8NI2sSD5FNBOtTOlAj4mqynf8vZFPJldPJ37PAZmQ79kNks8gXgXlnYDNbn/UqefJYnawhPQ58h+ws7sSJwFFltNChZOn1YvLEfgfwG97YWT8thwIfBp4lA/CF/eT7fjIwHCbpExFxGbkPLijfy1+BLWYg3d6uIAcaPEV22H6g1IIGur9aPiPpWfJYOIf83t/VuyBS1cFx8hGyc/4J4Pjy3pdmMF82DfJNdszmPJKOJTvKP9rtvAyEpAuBv0fEMdN9s3XENQUzm22UJsTlJA2TNIkcGnt5l7M1pHj0kZnNTt5EDo5YFHgQ2Dsi/tTdLA0tbj4yM7M2Nx+ZmVmbg4KZmbXN1n0KY8aMiQkTJnQ7G2Zms5Wbb7758YgY29drs3VQmDBhAlOn9jfU3szM+iLpn/295uYjMzNrc1AwM7M2BwUzM2tzUDAzszYHBTMza3NQMDOzNgcFMzNrc1AwM7O22fritYE6cb8pjX7+EadObvTzzczq5pqCmZm1zdE1BTNrVtO1cXCNvG6uKZiZWZuDgpmZtTkomJlZm4OCmZm1OSiYmVmbg4KZmbU5KJiZWZuDgpmZtTkomJlZm4OCmZm1OSiYmVmbg4KZmbU5KJiZWZuDgpmZtTkomJlZm4OCmZm1OSiYmVmbg4KZmbU5KJiZWZuDgpmZtTkomJlZW2NBQdIykq6TdIek2yV9qqxfRNLVku4qfxeu/M8Rku6WdKekzZvKm5mZ9a3JmsIrwCER8VbgncC+klYGDgeujYjlgWvLMuW1nYBVgEnAaZLmajB/ZmbWS2NBISIejohbyvNngTuApYBtgbPL284GtivPtwUuiIiXIuJe4G7gHU3lz8zM3mhQ+hQkTQDWAP4XWDwiHoYMHMBi5W1LAQ9U/u3Bsq73Z02WNFXS1Mcee6zRfJuZzWkaDwqSRgKXAAdGxDPTemsf6+INKyKmRMTEiJg4duzYurJpZmY0HBQkDScDwg8j4tKy+hFJS5TXlwAeLesfBJap/PvSwENN5s/MzF6vydFHAr4L3BERJ1de+jGwa3m+K3BFZf1OkuaVtCywPPCHpvJnZmZvNHeDn/1uYBfgNkm3lnVHAicBF0naA7gf2B4gIm6XdBHwN3Lk0r4R8WqD+TMzs14aCwoRcQN99xMAbNzP/5wAnNBUnszMbNp8RbOZmbU5KJiZWZuDgpmZtTkomJlZm4OCmZm1NTkk1ewNTtxvSuNpHHHq5MbTMBuqXFMwM7M21xRsjuFaitn0uaZgZmZtDgpmZtbm5iMzs5rNzk2VDgpmg2B2PknMrrzPZ46bj8zMrM1BwczM2qbbfCRpe+CqiHhW0lHAmsDxEXFL47kbwpqu2k6rWutqtZn1p5OawudKQFgP2Bw4Gzi92WyZmVk3dBIUWnc/2wo4PSKuAOZpLktmZtYtnQSF/5N0BrAD8DNJ83b4f2ZmNpvp5OS+A/ALYFJEPA0sAny6yUyZmVl3dBIUzoiISyPiLoCIeBjYpdlsmZlZN3QSFFapLkiaC1irmeyYmVk39RsUJB0h6Vng7ZKeKY9ngUeBKwYth2ZmNmj6DQoRcWJEjAK+HBELlseoiFg0Io4YxDyamdkgme7FaxFxhKSlgPHV90fE9U1mzMzMBl8nVzSfBOwE/I2eaxYCcFAwMxtiOpkl9f3AihHxUtOZMTOz7upk9NE9wPCmM2JmZt3XSU3hBeBWSdcC7dpCRBzQWK7MzKwrOgkKPy4PMzMb4joZfXS2pPmAcRFx5yDkyczMumS6fQqStgZuBa4qy6tLcs3BzGwI6qSj+VjgHcDTABFxK7BsYzkyM7Ou6SQovBIR/+61LprIjJmZdVcnHc1/lfRhYC5JywMHAL9rNltmZtYNndQU9idnSn0JOB94BjiwwTyZmVmXdDL66AXgs+VhZmZDWCejjyZKulTSLZL+0np08H/fk/SopL9W1h0r6f8k3VoeW1ZeO0LS3ZLulLT5zG+SmZnNrE76FH5I3n7zNuC1Gfjss4BTgXN6rT8lIr5SXSFpZXLSvVWAJYFrJK0QEa9iZmaDppOg8FhEzPB1CRFxvaQJHb59W+CCMunevZLuJofB/n5G0zUzs5nXSVA4RtJ3gN5zH106k2nuJ+ljwFTgkIh4ClgKuKnyngfLujeQNBmYDDBu3LiZzIKZmfWlk9FHuwOrA5OArcvjfTOZ3unAcuXzHga+Wtarj/f2eS1EREyJiIkRMXHs2LEzmQ0zM+tLJzWF1SJi1ToSi4hHWs8lnQlcWRYfBJapvHVp4KE60jSb052435TG0zji1MmNp2GDo5Oawk2lI3jAJC1RWXw/0BqZ9GNgJ0nzSloWWB74Qx1pmplZ5zqpKawH7CrpXrJPQUBExNun9U+Szgc2AMZIehA4BthA0upk09B9wCfJD7td0kXkLT9fAfb1yCMzs8HXSVCYNDMfHBE797H6u9N4/wnACTOTlpmZ1WO6zUcR8U+yvX+j8vyFTv7PzMxmP51c0XwMcBhwRFk1HPhBk5kyM7Pu6KTE/35gG+B5gIh4CBjVZKbMzKw7OgkK/42IoFw3IGmBZrNkZmbd0klQuEjSGcBCkvYErgHObDZbZmbWDdMcfSRJwIXASuR9FFYEjo6Iqwchb2ZmNsimGRQiIiRdHhFrAQ4EZmZDXKdXNK/deE7MzKzrOrl4bUPgk5L+SY5A6uiKZjMzm/10EhS2aDwXZmY2S+gkKPQ5hbWZmQ09nQSFn5KBQcAIYFngTvLWmWZmNoRMNyj0vpeCpDUps5uamdnQMsMT20XELYBHI5mZDUHTrSlIOriyOAxYC3issRyZmVnXdNKnUJ387hXyFpqXNJMdMzPrpk76FI5rPZc0DBgZEf9pNFdmZtYVndxP4TxJC5bZUf8G3Cnp081nzczMBlsnHc0rR8QzwHbAz4BxwC5NZsrMzLqjk6AwXNJwMihcEREv4wvazMyGpE6CwhnAfcACwPWSxpPTaJuZ2RDTSUfzN4BvVFb9U9KGzWXJzMy6pZMhqUjaipzWYkRl9f80kiMzM+uaTkYffRvYEdifnP9oe2B8w/kyM7Mu6KRP4V0R8THgqXLNwrrAMs1my8zMuqGToPBi+fuCpCWBl8mZUs3MbIjppE/hSkkLAV8GbiGHo36nyUyZmVl3dDL66PPl6SWSrgRGRMS/m82WmZl1QycdzfNL+pykMyPiJWAxSe8bhLyZmdkg66RP4fvAS2QHM8CDwPGN5cjMzLqmk6CwXER8iexgJiJeJIemmpnZENNJUPivpPko8x1JWo6sOZiZ2RDTyeijY4CrgGUk/RB4N7Bbk5kyM7Pu6GT00dWSbgHeSTYbfSoiHm88Z2ZmNuj6DQqS1uy16uHyd5ykcRFxS3PZMjOzbphWTWEqcDvwWFmudi4HsFFTmTIzs+6YVkfzIcC/yWkuvg9sHREblsd0A4Kk70l6VNJfK+sWkXS1pLvK34Urrx0h6W5Jd0rafADbZGZmM6nfoBARp0TEesB+5AR410q6SNLqHX72WcCkXusOB66NiOWBa8syklYGdiKn554EnCZprhnYDjMzq8F0h6RGxL3AFcAvgXcAK3TywRFxPfBkr9XbAmeX52eTt/hsrb8gIl4q6d1d0jIzs0E0rY7mN5Ol922BB4ALgBMi4j8DSG/xiHgYICIelrRYWb8UcFPlfQ+WdX3lazIwGWDcuHEDyIqZmfU2rY7mu4G/kLWEZ4BxwD5S9jdHxMk15qOvK6SjrzdGxBRgCsDEiRP7fI+Zmc2caQWF/6HnxDyypvQekbREqSUsATxa1j/I62/cszTwUE1pmplZh/oNChFxbAPp/RjYFTip/L2isv48SScDSwLLA39oIH0zM5uGTqa5mCmSzgc2AMZIepCcLuMk4CJJewD3k/d7JiJul3QR8DfgFWDfiHi1qbyZmVnfGgsKEbFzPy9t3M/7TwBOaCo/ZmY2ff0OSZX0qfL33YOXHTMz66ZpXaewe/n7zcHIiJmZdd+0mo/ukHQfMFbSXyrrBUREvL3RnJmZ2aCb1uijnSW9CfgFsM3gZcnMzLplmh3NEfEvYDVJ89AzvcWdEfFy4zkzM7NBN93RR5LWB84B7iObjpaRtGuZ28jMzIaQToakngxsFhF3AkhaATgfWKvJjJmZ2eCb7iypwPBWQACIiH8Aw5vLkpmZdUsnNYWpkr4LnFuWPwLc3FyWzMysWzoJCnsD+wIHkH0K1wOnNZkpMzPrjukGhYh4iexXqHOqbDMzmwV10qdgZmZzCAcFMzNrc1AwM7O2mQoK5T7JZmY2xMxsTaGveyqbmdlsbqaCQkScUXdGzMys+6YbFCQtLekySY9JekTSJZKWHozMmZnZ4OqkpvB94MfAEsBSwE/KOjMzG2I6CQpjI+L7EfFKeZwFjG04X2Zm1gWdBIXHJX1U0lzl8VHgiaYzZmZmg6+ToPBxYAfgX8DDwIfKOjMzG2I6mfvofnw7TjOzOUK/QUHS0dP4v4iIzzeQHzMz66Jp1RSe72PdAsAewKKAg4KZ2RDTb1CIiK+2nksaBXwK2B24APhqf/9nZmazr2n2KUhaBDiYvNva2cCaEfHUYGTMzMwG37T6FL4MfACYAqwaEc8NWq7MzKwrpjUk9RBgSeAo4CFJz5THs5KeGZzsmZnZYJpWn4LvtWBmNofxid/MzNocFMzMrM1BwczM2hwUzMyszUHBzMzaHBTMzKxturOkNkHSfcCzwKvAKxExsVw9fSEwAbgP2MFXT5uZDa5u1hQ2jIjVI2JiWT4cuDYilgeuLctmZjaIZqXmo23J+ZUof7frXlbMzOZM3QoKAfxS0s2SJpd1i0fEwwDl72J9/aOkyZKmSpr62GOPDVJ2zczmDF3pUwDeHREPSVoMuFrS3zv9x4iYQk7Sx8SJE6OpDJqZzYm6UlOIiIfK30eBy4B3AI9IWgKg/H20G3kzM5uTDXpQkLRAuWkPkhYANgP+CvwY2LW8bVfgisHOm5nZnK4bzUeLA5dJaqV/XkRcJemPwEWS9gDuB7bvQt7MzOZogx4UIuIeYLU+1j8BbDzY+TEzsx6z0pBUMzPrMgcFMzNrc1AwM7M2BwUzM2tzUDAzszYHBTMza3NQMDOzNgcFMzNrc1AwM7M2BwUzM2tzUDAzszYHBTMza3NQMDOzNgcFMzNrc1AwM7M2BwUzM2tzUDAzszYHBTMza3NQMDOzNgcFMzNrc1AwM7M2BwUzM2tzUDAzszYHBTMza3NQMDOzNgcFMzNrc1AwM7M2BwUzM2tzUDAzszYHBTMza3NQMDOzNgcFMzNrc1AwM7M2BwUzM2tzUDAzszYHBTMza5vlgoKkSZLulHS3pMO7nR8zsznJLBUUJM0FfAvYAlgZ2FnSyt3NlZnZnGOWCgrAO4C7I+KeiPgvcAGwbZfzZGY2x1BEdDsPbZI+BEyKiE+U5V2AdSJiv8p7JgOTy+KKwJ2DmMUxwOODmJ7TdtpO22k3YXxEjO3rhbkHMROdUB/rXhe1ImIKMGVwsvN6kqZGxESn7bSdttMeKmn3Nqs1Hz0ILFNZXhp4qEt5MTOb48xqQeGPwPKSlpU0D7AT8OMu58nMbI4xSzUfRcQrkvYDfgHMBXwvIm7vcraqutJs5bSdttN22oNllupoNjOz7prVmo/MzKyLHBTMzKzNQcFqJamvYcVmNptwUBhEg3HCbKXRjZOzpLcCZ0qabxDTHCtp9cFKr1fa75Z0bDfStjSnFUIkrSlp0ybTcFBoUOUEvWRZNay6von0omfkwKJ95aVhUR4nD2JgOACYLGmtQUqv6v+A3SQdNdgJ9/V9dvME2aVCSPt4lzRcUuPns27ud0lzA2sCR0raqLF0PPqoGa0DVtIWwMnA/wLXA5dExL97ncBrS6883x/YjRza+9uI+Hnv9zSh/DhWIE/Uw4FPRcSLDaW1GLAA8AxwJBmMLoiIqU2k10f6c0XEq5ImAFcCF0fEsYOUdvW7fhcwmrzG58mIeG2w0pc0HhgeEXc3neZ08rMP8E7gCeCGiLik4fQ2IC+sfToirizrGv1tVdJeGNgO+BBwSkRcU3carik0pPxo1ga2Bz5JBoRVgD0kjS6v11bCqJwktgTWAQ4GXgI2lbR9JU+1lmqqnxfpTuBLwH+BbzRRY5A0HPgAME9EPAEcTR7LO0lqdKqA1vaWgDBPRNxHzuq7naTjmky7pfJdHwicDnwcuAj4kKRRg5G+pPcBPwG+IOkSSQs0nW5fylxoHwROIudCa6RppVLrXxc4h/wtH9uqJTbx2+qddknnKeBC4ArgIEmb1J2eg0KNJL1F0nrl+ULAt4GxEXE98H3gd8CSwN6SFqqjZCFp3VJ6QNIq5AH7x4j4DXAmcA+wrqSPQM8JpS6VE9Seko6TdArwNDkF+gtkU9L8Naf5Mnmxz1OSTiRrJ9XA0FhTUmV7PwqcIulgYASwCbCNpKObSrtK0rLA1sD6EbE98D1gS2D8IKS9LnAiGQyvKPk4V9KCTafdhxHAh4ENyO9/P0lzS1pmmv81gyqFvPcDe0XEEcBHgR0kfbb1njrThDfUCjcuLQ9Lkb/zHwEHStq4zjQdFOq1DBCSRkXE08DngLUl7VlK0ZcAU4ElgIVrSnN9YP5Sar0d+A5wqKQVIuIhsgT5MPC2pkqRkj4G7AP8miytfZmspZxCNvF8oca0WqWmdwA7kFe+7wRMIPd3ALuXH3AjJO0BHEYG+fHl+QrkSXKypM80kGbv3+ojZG3snQAR8QMyGO9Hg0ph517gY8DbSnrjgMWAn0hapMG0+yqJjwFuATaPiEkR8QpZc/pAaYOvK+15yNrBB4Bly+/t7+QxuIcaGnBQCQj7AF8nj7GfApuXv5cCx0lav85E/Rjgg2xffHd5PhL4J/D+srwJcCuwR+X9b6ohTVWerw7cDixelo8kg89KZXkssHCD238GsEuv5YvL87fUsb290lsB+BV5IloGOI4MRKuU/f+11rbXlJ56LZ8EbNz6LoE9gJPL8nhguZq3d57K87cAK5bnR5En5TXK8q5kAFad6VfSHkc2DY4iZzQ+Bdi3vPYJ4O/Ayg2lXT3etyELAguShauLgDPKa3uU30It33/ZzuWAP5G1kn3IPqSJwNzlPW8F3tPg9i4K/BaYUJa3Ba4D3lWWdwGWqS3tJr7AOe1B3t/hptaBUQ7YfwBbleUNgbuBT9Z9wFTWTSkHzmJl+TDg/wEr1Lytw/pYd1g5QS1YWfdTYFQD+/rtZJPFlyrrlgeOAb4BrNpXHuvY1/QE3c+TEzWOrKR/DTUHv/LZK1VOvHuTwf4fZZ9/nCw9XgycDfwNWLXuPFTysmI5zlsBcS/gLDIw/QxYs6m0K3nYFfhL2d9TyD6EFco+uIwsLKxSU1rDKs+/CWxUnh8DXA6s2woMvY+VGo+53ciCz1nARmTHPmSf4bm981nHw81HNYi8x8M5wDGSNoiIC4DDgW9K2iIiriN/QH+rKb1WlXK70pa/QERMJk8YV0haLCK+CJwKvFxHmpW0Xytpv095P+1lyZLTu4DNJS0n6QNktb4WvZoN7iFHHK0maXxpc72LvEvfM8DLUdMInF7tuYcAJ5X+mzPIUvExpSN9JbJE+d860u1lNXJbPwtMIpuLNiVrSaPJ0voJwFXAFhFxW90ZkLRwaS65k+wr+rSkMWQh5OaSr9Mi4pa60+6Vjy3JAteaEbEJOdX+FmS/3YfIpp2to75JNN9UeX4XeYImIo4DbiObK9sd7K1jZaAqx9xWJc15gUeBd5O1Ncgb8jxd3l/viLOmI/uc8AAWKX8nkyWYDcry+4HHgPfVlE7vEsQtZAntB8A7y/qvAHeQP5Smtnd34H6ymeav5ElxXeC7ZCn+18Dba05zXbJDczXyBPxdMugtVXnP/A1t7yfI0WOtWthosvb3VeA3wI3AajWnWf2uWx3JfwAWLesmlH3/gQa2d2ngq+X5cmU/f5sMRCOB44G1Ku8f3jvPDeRpfuAg4Dmy/wCyGetz5CCODWpObxRZIzuGDDzDyNFWO1XeU2szYa/0VyEDz4FleVz5nZ8DnE8G40ZqhbPU1NmzI0njgKMlXRURU0qp9qhSyLxM0lzA8zWkUy21jiTbUidFxKOlk+vj5S2HSvovWYJ5bKDplvQWjRz6iaTNyRPz+hFxb+l0vZLsQ9mjlCCJiAHfWrC1zZLeQTaP/JYcvfUX8kQ9hexkOzYiHoyIFwaaZkl3PbLp74iyagL5g5wgaTdgPbLd+kjye3ghIp6pI+2S/uvGvEfEjyQ9BBxCjq66OCLuk3RlSb/WcfIR8aCksyUtRZZIv0OO8LmUDE7vJU9SHyvvf7n8rW30Ta/jfRjwYkScImkEOcLouYi4UdLXyHb+O+pKU9I65G92S3JU04fJQthj5Mm65Z6Bptk77cqqh8na32RJv4mIP0k6gAzSSwG3Rg6Hrl9TkW5OegCfJseLb1uWJ5MjUzasvGemS1G8vtR4MPB74D7gkLJuLuBY4Dxg7Zq3bTngQLKkNoxsprmVPDHOVd7zceApSmd7zelvQtYKWjWhMWQQOoDs+LuYBjo3yXbcVprbAZeQtYU9yHbtU6n0oTR0XB1Adux+jyyhbwucRtbGPkUGphVrTrPVeTqypPPzyve8Tdn2P5bv+81Nbn9J86Dy27oIWKKsO5Bs09+gLNdWQynf9S2UfpPK+v1LPl4AJta8jdW+i63IILQ82Xx1UPkeVmt6X7fzMFgJDbUHebl5tSq5P3ldwJZleW9gnZrTXI8cm7w8sCPwZ8qonxIYjmj9cGpMcyywENmB+y7ySuUzyU7datPNR4C3NLCfDwJeA3YsyyqB4rTWdteY1ly9lv8G/LA8HwksVJ5vS1bfF2vw+NoTuLbs/0eA48r6Lcr6r9Z9Um6dXMmmsbPLMXUJ2WxS7VBdjhIwm3yQQbG1D6aSAyfGldeOIAso89UVFMjaz++ApcvyCvRqniM71fdpaHv3L+l/lmyeXb8SGK6joZFdb8jHYCQy1B5kiXlnsu18+8r6U8lS9HYNpLk6OW3FDyrrtiwnp080kF61djIf2Y58OjkUb17gXHLky7gm0gXmq6w7jOxEfktZ3hq4gWzbryUokM1SB5TnOwAfKc+nktNntALS7iVY1DLCpY/tHlb+nkgOb/0U2W80b+W9mzcVkOjpG6rWci8rwWHeJtLs55gbQY7yGkPWxH9IDjt+mDL8ktKXV2P6S5O18KPIoHsxOXXGkZX3HA+cU1N67yenwBHZRHkxGYg/QQbD1jGxOBkgl25y/7fzNRiJDIVH5QtahJ6hiDtS6XwiS/JXUsMYafoo/ZDTZVxeTgrzlXXblRPkgn39Tw35WLD8XaCcnL9ZCQyXk80bdZ2YW/t4G7Id+7vAsmXd4cArZOf2FGoMvJSLzsgmuP+SgXZk5fWb6Rn+tx4NldDL81ZJ+BSyTfm81skY+AywZ93fca+8HEHWzNbttf4X5Vhv6hqI6j5Yu3LMrVKO71YT1j/J5p0BH3OV420JYHR5vlnZzlbn8qbk1fJzk7XkY6mhQFBO9L8na99LlG09unzfv6hs7yfIDv7GOvHfkLfBSmgoPMjI/ttyUG5W1u1AdnyeVv6uX0M61R/IjuTl9OuW5X3I0RaTKKNtgAVq3Ma16WkmOZCstl7UOhmVk8Yp5NDIeYAla97Hk8r+Xbb8aG6g5/qPA8g23da+H15DeuPJK3SXANYoAeAhKs0l5X13AWc2fHztBVxUnr+HHHL4wbL8YXI0St3XnbROjNVrTI4na7zje713rTrT7ic/+5TfUav/YJlyvK9e9sHneudrgNu9LVkqv5jsGxtRec+m5AivLSrr6ioAjSFr218jr3lZmqw13EhPQWjnkn6ttfHp5m0wE5sdH5WDZx5yIqo1yPHQ99Bzcdoa5WS5fs1pH0wOeTwM+CU9FzFNLgfxJg1s7/fLyXijsr1rlhPUg2SQGFZOGl+o/oAGun8ry8eRU1hsRbavnkxeTbpBef1AssawfI3b3BpKe2NZPp5s022dmMaXvxMaPM52Lifi5SrrtiYvFjuXDM5vayjtrcjS8WXlJLlUOfZupOHOZF7fLLYxGZTHVdYtQvZfnVV+cwOqhVdP6mSb/R/KCfp08tqTQ8gCyZJkgWSbvo7TAaS/Fj1XpH+VHOU0uSwvTxbAziaHnd7a1Hc+zTwOdoKz44MsMRxKjgJptfl+kBzHvEON6VRHIawJXFief64coGcB+5V1u1NjKb1X2t8gS8/HV9ZNaJ20yM6vRWtIcwTwsfJ8Inm5vshS+9WUay3IDvUfUabqINvZB1xirnyXXyBrIN+qvPZl4AEyCP2pju2dTl6OBD5a2S+tvC1IdnI3kn45SV1L9iUcSjYHHlzSPIHsUxlw8O8n7dXL76i1rZtSrlQnmydbTSgjyf6jAV0xXo7bL9EzXcQHyRmFtyantv9I+fs/ZA2ydU1InaOb9iaD7mgyAO9JNhd9qLy+ePktbEWNU1fMUB67kejs8KCnhvC28sM4lSy1H0NpriGbdh4oX+SADhxyyGer2rhqOXDGkU1WvybbHD9LDkM8oMHtbp2ITyxpLVJ57RxqbkIga1hPkk0Gb63siyvL/l2VLD3VNpKr93dVTojvI2sMJ1XWH0h2ptc66qOvY4UceXIpZSqNsu7D9GrbrzkfS5EjeH5UWbdl2fcTynJtNbI+0n8n2V4+ofxdlRxh9N7Ke/aivulh5iWbar7ZCjBkC8D36Jk/6kyyFj6+qe+c7Cf5eeu3RF6l/Wuyf7DWKStmKq/dzsCs/CCbTX5EuSKZ7OA9hRyd0OpsXryGdNYhL475TDlg/0yZBI3sXD6oPN+znKxrHXZayceaZNW1NbfNt8gmhJ3Jm3rcRU1NKPQE3YXJC48eqLy2AHlh1KXlJLFljdtY/XFuV77jVsfmOmS1/fOV9wy432Ia6a9PdmzOR08p9rPkHEM7kk1HjTXfkM0mB5I1oerw6oupsQY8nX2wOD3XXSxUTpC/Kcf9XmRz0oCbUOipdYwgRzJ9m56hp1PKNr+XnJHgHU1tb2XdCWSAagWjD5XvobZjfabz2+0MzMoPsiTzMD0zYA4vP+IzyLbvYQyw44kczXIbOSb6UvIK0h0qr29GtqGfSrap1n4tQCWteckREKdShiQCXyTbPQ+t6wRVCQhjyCF4Y8qP5G56OrnfWk6WtW5vJe1PkX0nB5OTqLU6dNciS8pHNZRu6+/+ZFPF18v3vywZoL5A9h9cRf1ThbTSXodsntignCT3JEvLh5Gl9TvqPjH2zkOvdeuTtdBPlv2wWVk+lXpG+rS2e3T5O5wc3TaFbKocX37TN5BzJzWyvWStfw96mqWOLMfa6mV5O2quocxUnrudgVnpUTl4lqOnFLFiOVm1OoPmJoerDbhJoZwQJ5NtmGuSTSlfLyfijekZivgesr2zzs7V7YCPl+db0VMbmocc/nkmPVPzfp76A8KW5cR3ArB3WXca2U+zJXnV7Pgat3ccPc1+65HtuMPImtevy4m4dYHcGlQuzKsp/WUrz7cga2DzkiX1f5EBYuXy+miam8dpM7JwcRzZmb43WSDZu+z7y+iZBr62CwP7yMd+5Il/N7KGsDZZgt+7iW0na/lXkLX8j5Tf8Q/K76113UPtfQiV9D9G9sn9jKyNtwpdh5MjGmstAAwor93OwKz2IDudfk+OxjinnEBWJEtP+zWQ3hJkm/qj9FRxv0CWkiaSpadd6jxQyTbce8kS45Ll839JGc1UTlYXUxkOWkOaS1M6LMt23UYG3/PJanRreoVjyVFPW9W4vYuXH/+hZO1jDDnU8aNkU8UI8h4J91JzswkZ+BcgL4JqXZU8X0n/Y8AvyrrzyKGwtQ45LZ/drqWQtdHWvT5WIQNza7jxnmTzZa2l5WoeyvN1yWaafckROF8r38nE8rvbg15DggeY9nvL8bYOOZLr8spx/iOyL6nWZsJe6U8iB060moQPJwtAG5Tlg+lSp3JfD0+dXSFpcbLUvhd5wF5MfoFBjvb5tKRl+rkD1Iyk07rfa2uyvN+Xv7uUtxxLjlHfk6zS3xrl6KnJK2SJcBvy4Pwl+eM4QNJmEfESWa29D7hzoImVO2BdSE79C9l+/nXyZL0c2XH+iqRlI+JYsgbz04Hu54rHyJrHkuQJ5/mIeKDk4xsR8R9yKokfkiX2Os0VEc+Tw2x3k3R0RLxY0l+BHPkDedK4jRwFVauI9j2VJ5KDB8ZIGhE5xfTnS77mIr/zu4CN67xLX6/J7VYv+Tg9Ir5FBsNnyKaU+8nmy6si76BWlyXIE+8wckbfA8r6kWSt4RtRJvWrQ/W4lTQv2ST2TrLACTnM+n5yEsv3RsTJ5XiYNXQ7Ks0KD3pKUssAv66sH02W2vcpywO+exmvLzGtRE+H9XjyB7l/WZ6bPIk1MgU2eZJ+hp7pHEaRF+/8g2xrvYWapgYmm6Suo7QPkzfK+Ss5XURrOuqtyHbdOi/EW56eMeEif5Snkv0JI8jAP5UsCNxOzaU1cojl+eSQ4jXK9/kwpb+CHF10ftnfv24g/dZxPZFsLnsvWdA4o/JdrE42abQuhFyM0q/TwDH3ybKfpwLXVdavQdYYTmKAo2/IWllr4MBGZB/JJPI6m1vpmeZ+c7LpssmBBKPpmXlgL7IW1Lrwcl4yUNV+Y6aBPuboqbMrJZhFgccj4gFJ90k6IyI+GRH/lvQoeXIBeHagaUbryJE+TZ40/i3pLnLUyc7kDdBHRMSXyeaEWvQxNe9PyCC0jqQngGsi4nuS/kGWar8cEf9vgGm+GXgqIp6S9Aw9++//SvoLAKtKeon8gR4dWaoeMEmLkrWcxyUdB7xKnnxHkyW33SPiW5KeJGsMO0SNpTVJk8hgcy5ZIzqY7DN6D/C7MvXz18p+2ZAseNSSvqQ3kcN6n5P0AjmM+omIuB64XtLKwBGlBrcCOdrqBYCIeLSOPPSRp43IwL96RLws6YbK7+xPkl4DHooB3DBG0hLkd3lM2a9vo+ceJ5eRBZ+Q9B4yCB0e9dYQ5omI/5bnh1CmGJd0IjmS7AVgX0nDI+KnZI1h1tPtqNTtB1mK+B15Je9nyQ6vr1A6HskTy0Y1pLMWebJdmDwx/LKsv5CsQrfa1Nchh+HVdk9lXl962YqcZbRVQ/k0ORJjE2ru4Cuf+RTZkfhDyvC78tpyZEn5OrLvZtveea0h/Y3IeXz2JwPCj8r3fAY5wdtkamy7rqS7SEl367K8TPmety/LK5ABv9YRTuWzVyKbyq4u3+ueZBPJPbx+2OmaZDBas+793keeFiWbqe6nXINAFgiuB86rcbvvIPsrdijH3ffKa8PI2siJ5BXMv6T+K5U3BnYrz7co6SxYziHfJpstR5NNVxeSQXvQ5jOaoW3pdga6uvEZAM4rX+h2ZGn1HHKq3qPI0t3mNaSzFXntwa7lBLEx2Yb6afIiltYoo4nlby1XkJJNJtWAsDvZbPNb8hqEVnoHkRcxDTj49ZGHSWTfxG1ke/GRZDDYmryi8730NF00Mepj03KymKfs+13LPn+CbMoY3dCxtVX5/NaEgj8gm09agwneSjbVjanxxLQyOdZ9Q7Jjf1+yz2gJMjBcSblytslHX9tDBsoTynG3Tlk3kmzWGtB1N/TchW6PsrwsWQD7M1kb6P3+UXUeb2Th4zngH2X5o5QJFCvH4J1kQWgBGmqeq+3763YGurbhWXr5K3BpWR4OvJmcSqLOq2fXJ4e0rlNZtxLZwXg9Pbcy3L/8aBeo8WCtzoHfmt9GZVuPJ6uvrasq9x3oj3Ma+diALDmfXdI9i2zH/h2Vq1cb/K63KifgVnvywpQraRtOdwuyie5UctRPa/RVq1ZYd3v2esBrvY6zn5cT8vxkCfpXgxEYSvr7kSOLTimBaVGyf+VUeoa9DvhYJws7X299HtlPshlZAHmYnGl0c7JWujA1XjVcPvcWciRZ694bq/c+j5DXgbxrMPb7gLep2xno6sZn6enp6o+EbF7YrcY0DgY+VZ5X72r1ObKZ6jB6ZoasbfIrsgR6X+VEeDTZsdwqpY0tJ+gplItnGt7XG5GlpcbGvk8n/S1KYGh0DqM+0t2kBMRWh3p1Fs4makaTgHvK8/eTzUit2soost+q1juH9bUtZGf+r8hBBb8l29QnkE2JJ5Jt+iNqCgrrk9d9bF5OvueTtcMTyGHV15CFkFrvZ01PLbQ1g/Ft5K1qFyTnzvoiOXpxN7L5bpYZdjrN7ep2BgZtQ3tGYqxVTlDjy/IHyZL8Z8h2x9uocfprctz38a119Ez+tRBZkvlOOXibuKXk1uTMj6PL8hfIDre3l+XFS7AY8FQdHeZnC/KK7dbEdoPapko2V/2JQZ5fpmz37TR4p7Ze6W1JNmdMpVfTHA0FZV4/2+kociTRKLKJ9BKyADKVvIhwIWBMjWnPT14EeCs5jPw9ZI1gzXJyXoSeK+Vrq4WTtfv2hX5k7b9158VFy+/vDHIG1lpvytTo8dPtDDS+gdmW3DoRt0qLR5Fj11udXjuSI2N+Qs8QxlpOHCUAXUNPM80wemoMB5FV/MZOUuUEcTfZyaUSiC6hp4NxsE+QW1Iu2unS8TCyS+luSzYzDBuMYFiOuwcry01enLVZKWwcQ8+FcQuRzSg3lN/g4mQB5bc00Llf0lyk1/IG5DVAjRR6Kr/j1vnlOODQyus7kK0RXTnmZvYxpC9ek7Qi2X65qaR3kyXlLcjRGa8A35W0RURcSH6Bi5NXL0NesFaH/yV/GDtKWisiXou8UGsnskPq+RjAMLzpiYifkSMeppLV2hPJKu8h5cKauraz4/xExK9rvDBtRtN/rkvpXkEWQl6LcsZoOL1fAZ+Q9KikhaPGoZdVZejt58mCzzBgK0lvjoinyd/YneQV3BuTw3N3inovTGuLiCdLnoZL2pK8QPL4iHikofRa29H6Pl8g76SGpI+SQWJqt465mdbtqNTUgxyJcRt5Qmy15y5HXlU7tSx/hrz9Ymsekh3IE/go6h0auRTZTPMbsh/heLLUNGg30CBL6HfQU40e1LZ1P7rzoMGaGW8cers0OZig1W81ihx+eRY5xfyAb1PbQZ6Gl9/4NTQwXcd00n472bH+QbLgWXuT8GA8Wu2MQ4qkBcnq7A8jL8iqXma/GzkD5D6S1ienlDgiIm4qr4+MBiK7pPnI/oxNyBER10XEP+pOZzp52I7s4J4YQ/GLt371cfFiXZ+7FTnl97oR8Yykn5Ft/H8hr7f5XXnrsxHxr7rT7ydPw8lCz7+a2u5+0h1HDu64i7yH+B2DkW7dhmpQGE5OcrV/5FXJcwOvRkRI2oC85PxfZIliv4j438E8eLqpqaBncy5JW5B367uKvP7iDLIWMZkMDIdGxDPdy+HgKOedk4FTI2LAc4Z1y1ANCguRHVqHR15OjqRhEfGapKXIC9XGAjdFxFVdy6jZECFpE/JK4SWitOFLGkZ2/j7e1cwNojKFRSP9N4NlSHY0R3ZyfRP4YJmVEXLkDeSw07XIe8Fe1a0OT7OhJCKuIS8S/FWZbZjITvU5JiAAzO4BAYZoUCguI9vu9yqTcb1WRiB9Cbg4eiYAG3pVJbMuiIifk0Oef15qCTYbGpLNRy2lxLIDecXwLeToo5Mi4vI5pQ/BbLC532r2NqSDQksJDq+RV10+6IBgZta3OSIomJlZZ9zuZ2ZmbQ4KZmbW5qBgZmZtDgpmZtbmoGBmZm0OCjakSHpV0q2Sbpf0Z0kHN3UhlaQNJP1b0p8k/V3SVwbwWdtIOrzO/JnNDA9JtSFF0nMRMbI8Xww4D7gxIo7p9b65Y4Dz+pfJFQ+NiPeVWXD/RN48/saBfK5ZN7mmYENWRDxKztS5n9Jukn4k6SfAL0tJ/8rW+yWdWqZWR9KWpfR/g6RvVN/XT1ovkreDXKr8/2aSfi/plpJmK1D1+bklb6eW52dJOl3SdZLukbS+pO9JukPSWZX89pfGfZKOK+tvk7RSXfvUhj4HBRvSIuIe8jhfrKxaF9g1Ijbq738kjSCnf94iItYjZ9SdJkkLA8sD10saQ97ydZOIWJO8693BM/i5C5O31DyIvE3sKcAqwKqSVu8vjcr/P17Wnw4cOr38m7U4KNicoDoT7tVRbts4DSsB90TEvWX5/Gm89z2S/kLen+PKciOZd5J3/rtR0q3ArsD4Gfzcn5SpWG4DHomI2yJv23o7MGEaabRcWv7eXN5v1pG5u50BsyZJejPwKvBoWfV85eVXeH3BaETr32Ygid+WPoUVgBskXVb+/+qI2LlXXtaYgc99qfx9rfK8tTw3uU1vSKOP/38V/85tBrimYEOWpLHAt8k7YfU1ouKfwMqS5pU0mry5POT9s98saUJZ3nF6aZVbq54IHAbcBLxb0ltKPuYvQWOGP3ca+kvDbEBcgrChZr7SnDKcrAmcS94i8Q0i4gFJF5H3E76LHD1ERLwoaR/gKkmPA3/oMO1vk+33I4HdgPMlzVteOyoi/jGTn9tX3h8rneKvSwMY1Pt+29DjIalmfWjdE6Dcme9bwF0Rccqs+rlmdXHzkVnf9iw1jtuB0eSooVn5c81q4ZqCmZm1uaZgZmZtDgpmZtbmoGBmZm0OCmZm1uagYGZmbQ4KZmbW9v8BvqUwjjvSVKoAAAAASUVORK5CYII=\n",
=======
      "image/png": "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\n",
>>>>>>> e2292988aa0ae5a108c76c44d4f944c8a2613f82
      "text/plain": [
       "<Figure size 432x288 with 1 Axes>"
      ]
     },
     "metadata": {
      "needs_background": "light"
     },
     "output_type": "display_data"
    }
   ],
   "source": [
    "# Generate a bar plot showing the total number of measurements taken on each drug regimen using pyplot.\n",
    "x_axis = np.arange(len(col_regimen))\n",
    "#create ticks\n",
    "tick_locs = [value for value in x_axis]\n",
    "plt.bar(x_axis, measurements, color=\"#866b99\", align=\"center\")\n",
<<<<<<< HEAD
    "plt.xlabel(\"Drug Regimen\")\n",
    "plt.ylabel(\"No. of Measurements\")\n",
    "plt.xticks(ticks=tick_locs, rotation=45, labels=measurements.index)\n",
    "plt.title(\"Measurements Taken per Drug\")\n",
    "plt.show()\n",
    "plt.savefigure(\"images/measurements_matplotlib.png\")"
=======
    "plt.title =(\"Measurements Taken per Drug\")\n",
    "plt.xlabel(\"Drug Regimen\")\n",
    "plt.ylabel(\"No. of Measurements\")\n",
    "plt.xticks(ticks=tick_locs, rotation=45, labels=measurements.index)\n",
    "plt.show()\n",
    "\n"
>>>>>>> e2292988aa0ae5a108c76c44d4f944c8a2613f82
   ]
  },
  {
   "cell_type": "code",
<<<<<<< HEAD
   "execution_count": 20,
   "metadata": {},
   "outputs": [
    {
     "data": {
      "text/plain": [
       "<AxesSubplot:title={'center':'Sex Distribution of Mice'}, ylabel='Sex'>"
      ]
     },
     "execution_count": 20,
     "metadata": {},
     "output_type": "execute_result"
    },
    {
     "data": {
      "image/png": "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\n",
      "text/plain": [
       "<Figure size 432x288 with 1 Axes>"
      ]
     },
     "metadata": {},
     "output_type": "display_data"
    }
   ],
   "source": [
    "# Generate a pie plot showing the distribution of female versus male mice using pandas\n",
    "unique_mice = clean_df.drop_duplicates(subset=\"Mouse ID\")\n",
    "sexes = unique_mice[\"Sex\"].value_counts()\n",
    "sexes.plot(kind=\"pie\", legend=True, autopct=\"%1.1f%%\", labels=None, title=\"Sex Distribution of Mice\",\n",
    "          colors=['#1e458e', '#Bf67c0'])\n",
    "plt.savefig('images/sexes_pandas.png')"
=======
   "execution_count": 15,
   "metadata": {},
   "outputs": [
    {
     "name": "stdout",
     "output_type": "stream",
     "text": [
      "<class 'pandas.core.series.Series'>\n"
     ]
    }
   ],
   "source": [
    "# Generate a pie plot showing the distribution of female versus male mice using pandas\n"
>>>>>>> e2292988aa0ae5a108c76c44d4f944c8a2613f82
   ]
  },
  {
   "cell_type": "code",
<<<<<<< HEAD
   "execution_count": 28,
   "metadata": {},
   "outputs": [
    {
     "data": {
      "image/png": "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\n",
      "text/plain": [
       "<Figure size 432x288 with 1 Axes>"
      ]
     },
     "metadata": {},
     "output_type": "display_data"
    }
   ],
   "source": [
    "# Generate a pie plot showing the distribution of female versus male mice using pyplot\n",
    "\n",
    "plt.pie(sexes, labels=None, autopct=\"%1.1f%%\", shadow=True, colors=['#1e458e', '#Bf67c0'],\n",
    "       startangle=90)\n",
    "plt.title(\"Sex Distribution of Mice\")\n",
    "plt.legend([\"Male\", \"Female\"])\n",
    "plt.show()\n",
    "plt.savefig('images/sexes_matplotlib.png')"
=======
   "execution_count": 12,
   "metadata": {},
   "outputs": [],
   "source": [
    "# Generate a pie plot showing the distribution of female versus male mice using pyplot\n",
    "\n"
>>>>>>> e2292988aa0ae5a108c76c44d4f944c8a2613f82
   ]
  },
  {
   "cell_type": "markdown",
   "metadata": {},
   "source": [
    "## Quartiles, Outliers and Boxplots"
   ]
  },
  {
   "cell_type": "code",
<<<<<<< HEAD
   "execution_count": 31,
   "metadata": {},
   "outputs": [
    {
     "data": {
      "text/html": [
       "<div>\n",
       "<style scoped>\n",
       "    .dataframe tbody tr th:only-of-type {\n",
       "        vertical-align: middle;\n",
       "    }\n",
       "\n",
       "    .dataframe tbody tr th {\n",
       "        vertical-align: top;\n",
       "    }\n",
       "\n",
       "    .dataframe thead th {\n",
       "        text-align: right;\n",
       "    }\n",
       "</style>\n",
       "<table border=\"1\" class=\"dataframe\">\n",
       "  <thead>\n",
       "    <tr style=\"text-align: right;\">\n",
       "      <th></th>\n",
       "      <th>Mouse ID</th>\n",
       "      <th>Timepoint</th>\n",
       "      <th>Drug Regimen</th>\n",
       "      <th>Sex</th>\n",
       "      <th>Age_months</th>\n",
       "      <th>Weight (g)</th>\n",
       "      <th>Tumor Volume (mm3)</th>\n",
       "      <th>Metastatic Sites</th>\n",
       "    </tr>\n",
       "  </thead>\n",
       "  <tbody>\n",
       "    <tr>\n",
       "      <th>0</th>\n",
       "      <td>a203</td>\n",
       "      <td>45</td>\n",
       "      <td>Infubinol</td>\n",
       "      <td>Female</td>\n",
       "      <td>20</td>\n",
       "      <td>23</td>\n",
       "      <td>67.973419</td>\n",
       "      <td>2</td>\n",
       "    </tr>\n",
       "    <tr>\n",
       "      <th>1</th>\n",
       "      <td>a251</td>\n",
       "      <td>45</td>\n",
       "      <td>Infubinol</td>\n",
       "      <td>Female</td>\n",
       "      <td>21</td>\n",
       "      <td>25</td>\n",
       "      <td>65.525743</td>\n",
       "      <td>1</td>\n",
       "    </tr>\n",
       "    <tr>\n",
       "      <th>2</th>\n",
       "      <td>a262</td>\n",
       "      <td>45</td>\n",
       "      <td>Placebo</td>\n",
       "      <td>Female</td>\n",
       "      <td>17</td>\n",
       "      <td>29</td>\n",
       "      <td>70.717621</td>\n",
       "      <td>4</td>\n",
       "    </tr>\n",
       "    <tr>\n",
       "      <th>3</th>\n",
       "      <td>a275</td>\n",
       "      <td>45</td>\n",
       "      <td>Ceftamin</td>\n",
       "      <td>Female</td>\n",
       "      <td>20</td>\n",
       "      <td>28</td>\n",
       "      <td>62.999356</td>\n",
       "      <td>3</td>\n",
       "    </tr>\n",
       "    <tr>\n",
       "      <th>4</th>\n",
       "      <td>a366</td>\n",
       "      <td>30</td>\n",
       "      <td>Stelasyn</td>\n",
       "      <td>Female</td>\n",
       "      <td>16</td>\n",
       "      <td>29</td>\n",
       "      <td>63.440686</td>\n",
       "      <td>1</td>\n",
       "    </tr>\n",
       "    <tr>\n",
       "      <th>...</th>\n",
       "      <td>...</td>\n",
       "      <td>...</td>\n",
       "      <td>...</td>\n",
       "      <td>...</td>\n",
       "      <td>...</td>\n",
       "      <td>...</td>\n",
       "      <td>...</td>\n",
       "      <td>...</td>\n",
       "    </tr>\n",
       "    <tr>\n",
       "      <th>243</th>\n",
       "      <td>z435</td>\n",
       "      <td>10</td>\n",
       "      <td>Propriva</td>\n",
       "      <td>Female</td>\n",
       "      <td>12</td>\n",
       "      <td>26</td>\n",
       "      <td>48.710661</td>\n",
       "      <td>0</td>\n",
       "    </tr>\n",
       "    <tr>\n",
       "      <th>244</th>\n",
       "      <td>z578</td>\n",
       "      <td>45</td>\n",
       "      <td>Ramicane</td>\n",
       "      <td>Male</td>\n",
       "      <td>11</td>\n",
       "      <td>16</td>\n",
       "      <td>30.638696</td>\n",
       "      <td>0</td>\n",
       "    </tr>\n",
       "    <tr>\n",
       "      <th>245</th>\n",
       "      <td>z581</td>\n",
       "      <td>45</td>\n",
       "      <td>Infubinol</td>\n",
       "      <td>Female</td>\n",
       "      <td>24</td>\n",
       "      <td>25</td>\n",
       "      <td>62.754451</td>\n",
       "      <td>3</td>\n",
       "    </tr>\n",
       "    <tr>\n",
       "      <th>246</th>\n",
       "      <td>z795</td>\n",
       "      <td>45</td>\n",
       "      <td>Naftisol</td>\n",
       "      <td>Female</td>\n",
       "      <td>13</td>\n",
       "      <td>29</td>\n",
       "      <td>65.741070</td>\n",
       "      <td>3</td>\n",
       "    </tr>\n",
       "    <tr>\n",
       "      <th>247</th>\n",
       "      <td>z969</td>\n",
       "      <td>45</td>\n",
       "      <td>Naftisol</td>\n",
       "      <td>Male</td>\n",
       "      <td>9</td>\n",
       "      <td>30</td>\n",
       "      <td>73.867845</td>\n",
       "      <td>4</td>\n",
       "    </tr>\n",
       "  </tbody>\n",
       "</table>\n",
       "<p>248 rows × 8 columns</p>\n",
       "</div>"
      ],
      "text/plain": [
       "    Mouse ID  Timepoint Drug Regimen     Sex  Age_months  Weight (g)  \\\n",
       "0       a203         45    Infubinol  Female          20          23   \n",
       "1       a251         45    Infubinol  Female          21          25   \n",
       "2       a262         45      Placebo  Female          17          29   \n",
       "3       a275         45     Ceftamin  Female          20          28   \n",
       "4       a366         30     Stelasyn  Female          16          29   \n",
       "..       ...        ...          ...     ...         ...         ...   \n",
       "243     z435         10     Propriva  Female          12          26   \n",
       "244     z578         45     Ramicane    Male          11          16   \n",
       "245     z581         45    Infubinol  Female          24          25   \n",
       "246     z795         45     Naftisol  Female          13          29   \n",
       "247     z969         45     Naftisol    Male           9          30   \n",
       "\n",
       "     Tumor Volume (mm3)  Metastatic Sites  \n",
       "0             67.973419                 2  \n",
       "1             65.525743                 1  \n",
       "2             70.717621                 4  \n",
       "3             62.999356                 3  \n",
       "4             63.440686                 1  \n",
       "..                  ...               ...  \n",
       "243           48.710661                 0  \n",
       "244           30.638696                 0  \n",
       "245           62.754451                 3  \n",
       "246           65.741070                 3  \n",
       "247           73.867845                 4  \n",
       "\n",
       "[248 rows x 8 columns]"
      ]
     },
     "execution_count": 31,
     "metadata": {},
     "output_type": "execute_result"
    }
   ],
   "source": [
    "# Calculate the final tumor volume of each mouse across four of the treatment regimens:  \n",
    "# Capomulin, Ramicane, Infubinol, and Ceftamin\n",
    "## Start by getting the last (greatest) timepoint for each mouse\n",
    "last_timepoints = clean_df.groupby(\"Mouse ID\").max()[\"Timepoint\"]\n",
    "\n",
    "## Merge this group df with the original dataframe to get the tumor volume at the last timepoint\n",
    "final_df = pd.merge(last_timepoints, clean_df, on=['Mouse ID', 'Timepoint'])"
=======
   "execution_count": 13,
   "metadata": {},
   "outputs": [],
   "source": [
    "# Calculate the final tumor volume of each mouse across four of the treatment regimens:  \n",
    "# Capomulin, Ramicane, Infubinol, and Ceftamin\n",
    "\n",
    "# Start by getting the last (greatest) timepoint for each mouse\n",
    "\n",
    "\n",
    "# Merge this group df with the original dataframe to get the tumor volume at the last timepoint\n"
>>>>>>> e2292988aa0ae5a108c76c44d4f944c8a2613f82
   ]
  },
  {
   "cell_type": "code",
<<<<<<< HEAD
   "execution_count": 65,
   "metadata": {},
   "outputs": [
    {
     "name": "stdout",
     "output_type": "stream",
     "text": [
      "Tumor volumes in the Capomulin treatment group that are below 20.7 or above 51.83 could be considered outliers.\n",
      "There are 0 potential outliers in the Capomulin treatment group.\n",
      "------------------------------------------------------------------\n",
      "Tumor volumes in the Ramicane treatment group that are below 17.91 or above 54.31 could be considered outliers.\n",
      "There are 0 potential outliers in the Ramicane treatment group.\n",
      "------------------------------------------------------------------\n",
      "Tumor volumes in the Infubinol treatment group that are below 36.83 or above 82.74 could be considered outliers.\n",
      "There is 1 potential outlier in the Infubinol treatment group.\n",
      "------------------------------------------------------------------\n",
      "Tumor volumes in the Ceftamin treatment group that are below 25.36 or above 87.67 could be considered outliers.\n",
      "There are 0 potential outliers in the Ceftamin treatment group.\n"
     ]
    }
   ],
   "source": [
    "# Put treatments into a list for for loop (and later for plot labels)\n",
    "treatments = ['Capomulin', 'Ramicane', 'Infubinol', 'Ceftamin']\n",
    "\n",
    "#individual subsets for each treatment\n",
    "capomulin_df = final_df[final_df['Drug Regimen']=='Capomulin']\n",
    "ramicane_df = final_df[final_df['Drug Regimen']=='Ramicane']\n",
    "infubinol_df = final_df[final_df['Drug Regimen']=='Infubinol']\n",
    "ceftamin_df = final_df[final_df['Drug Regimen']=='Ceftamin']\n",
    "\n",
    "#determine outliers for each treatment\n",
    "##capomulin\n",
    "tumor_vols_capo = capomulin_df['Tumor Volume (mm3)']\n",
    "q1_capo = tumor_vols_capo.quantile(0.25)\n",
    "q3_capo = tumor_vols_capo.quantile(0.75)\n",
    "iqr_capo = q3_capo - q1_capo\n",
    "lower_capo = q1_capo - 1.5*iqr_capo\n",
    "upper_capo = q3_capo + 1.5*iqr_capo\n",
    "potential_outliers_capo = capomulin_df[(capomulin_df['Tumor Volume (mm3)']<lower_capo) |\n",
    "                                 (capomulin_df['Tumor Volume (mm3)']>upper_capo)]\n",
    "##ramicane\n",
    "tumor_vols_rami = ramicane_df['Tumor Volume (mm3)']\n",
    "q1_rami = tumor_vols_rami.quantile(0.25)\n",
    "q3_rami = tumor_vols_rami.quantile(0.75)\n",
    "iqr_rami = q3_rami - q1_rami\n",
    "lower_rami = q1_rami - 1.5*iqr_rami\n",
    "upper_rami = q3_rami + 1.5*iqr_rami\n",
    "potential_outliers_rami = ramicane_df[(ramicane_df['Tumor Volume (mm3)']<lower_rami) |\n",
    "                                 (ramicane_df['Tumor Volume (mm3)']>upper_rami)]\n",
    "##infubinol\n",
    "tumor_vols_infu = infubinol_df['Tumor Volume (mm3)']\n",
    "q1_infu = tumor_vols_infu.quantile(0.25)\n",
    "q3_infu = tumor_vols_infu.quantile(0.75)\n",
    "iqr_infu = q3_infu - q1_infu\n",
    "lower_infu = q1_infu - 1.5*iqr_infu\n",
    "upper_infu = q3_infu + 1.5*iqr_infu\n",
    "potential_outliers_infu = infubinol_df[(infubinol_df['Tumor Volume (mm3)']<lower_infu) |\n",
    "                                 (infubinol_df['Tumor Volume (mm3)']>upper_infu)]\n",
    "##ceftamin\n",
    "tumor_vols_ceft = ceftamin_df['Tumor Volume (mm3)']\n",
    "q1_ceft = tumor_vols_ceft.quantile(0.25)\n",
    "q3_ceft = tumor_vols_ceft.quantile(0.75)\n",
    "iqr_ceft = q3_ceft - q1_ceft\n",
    "lower_ceft = q1_ceft - 1.5*iqr_ceft\n",
    "upper_ceft = q3_ceft + 1.5*iqr_ceft\n",
    "potential_outliers_ceft = ceftamin_df[(ceftamin_df['Tumor Volume (mm3)']<lower_ceft) |\n",
    "                                 (ceftamin_df['Tumor Volume (mm3)']>upper_ceft)]\n",
    "\n",
    "print(f'Tumor volumes in the Capomulin treatment group that are below {round(lower_capo,2)} or above {round(upper_capo,2)} could be considered outliers.')\n",
    "print(f'There are {len(potential_outliers_capo)} potential outliers in the Capomulin treatment group.')\n",
    "print('------------------------------------------------------------------')\n",
    "print(f'Tumor volumes in the Ramicane treatment group that are below {round(lower_rami,2)} or above {round(upper_rami,2)} could be considered outliers.')\n",
    "print(f'There are {len(potential_outliers_rami)} potential outliers in the Ramicane treatment group.')\n",
    "print('------------------------------------------------------------------')\n",
    "print(f'Tumor volumes in the Infubinol treatment group that are below {round(lower_infu,2)} or above {round(upper_infu,2)} could be considered outliers.')\n",
    "print(f'There is {len(potential_outliers_infu)} potential outlier in the Infubinol treatment group.')\n",
    "print('------------------------------------------------------------------')\n",
    "print(f'Tumor volumes in the Ceftamin treatment group that are below {round(lower_ceft,2)} or above {round(upper_ceft,2)} could be considered outliers.')\n",
    "print(f'There are {len(potential_outliers_ceft)} potential outliers in the Ceftamin treatment group.')"
=======
   "execution_count": 14,
   "metadata": {},
   "outputs": [],
   "source": [
    "# Put treatments into a list for for loop (and later for plot labels)\n",
    "\n",
    "\n",
    "# Create empty list to fill with tumor vol data (for plotting)\n",
    "\n",
    "\n",
    "# Calculate the IQR and quantitatively determine if there are any potential outliers. \n",
    "\n",
    "    \n",
    "    # Locate the rows which contain mice on each drug and get the tumor volumes\n",
    "    \n",
    "    \n",
    "    # add subset \n",
    "    \n",
    "    \n",
    "    # Determine outliers using upper and lower bounds\n",
    "    "
>>>>>>> e2292988aa0ae5a108c76c44d4f944c8a2613f82
   ]
  },
  {
   "cell_type": "code",
<<<<<<< HEAD
   "execution_count": 71,
   "metadata": {},
   "outputs": [
    {
     "data": {
      "image/png": "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\n",
      "text/plain": [
       "<Figure size 432x288 with 1 Axes>"
      ]
     },
     "metadata": {
      "needs_background": "light"
     },
     "output_type": "display_data"
    }
   ],
   "source": [
    "# Generate a box plot of the final tumor volume of each mouse across four regimens of interest\n",
    "data_list = [capomulin_df['Tumor Volume (mm3)'], \n",
    "             ramicane_df['Tumor Volume (mm3)'], \n",
    "             infubinol_df['Tumor Volume (mm3)'], \n",
    "             ceftamin_df['Tumor Volume (mm3)']]\n",
    "#boxplot\n",
    "bplot = plt.boxplot(x=data_list, labels=treatments, patch_artist=True)\n",
    "#title and axis labels\n",
    "plt.title(\"Final Tumor Volumes for Different Treatments\")\n",
    "plt.xlabel(\"Treatment\")\n",
    "plt.ylabel(\"Tumor Volume (mm3)\")\n",
    "#add color\n",
    "colors = [\"#C0E9AD\",\"#ADDBE9\", \"#D5ADE9\", \"#E9ADCF\"]\n",
    "for patch,color in zip(bplot['boxes'],colors):\n",
    "    patch.set_facecolor(color)\n",
    "#show plot\n",
    "plt.show()\n",
    "#save plot\n",
    "plt.savefig('images/tumorvol_boxplots.png')"
=======
   "execution_count": 15,
   "metadata": {},
   "outputs": [],
   "source": [
    "# Generate a box plot of the final tumor volume of each mouse across four regimens of interest\n"
>>>>>>> e2292988aa0ae5a108c76c44d4f944c8a2613f82
   ]
  },
  {
   "cell_type": "markdown",
   "metadata": {},
   "source": [
    "## Line and Scatter Plots"
   ]
  },
  {
   "cell_type": "code",
<<<<<<< HEAD
   "execution_count": 80,
   "metadata": {},
   "outputs": [
    {
     "data": {
      "image/png": "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\n",
      "text/plain": [
       "<Figure size 432x288 with 1 Axes>"
      ]
     },
     "metadata": {
      "needs_background": "light"
     },
     "output_type": "display_data"
    },
    {
     "data": {
      "text/plain": [
       "<Figure size 432x288 with 0 Axes>"
      ]
     },
     "metadata": {},
     "output_type": "display_data"
    }
   ],
   "source": [
    "# Generate a line plot of tumor volume vs. time point for a mouse treated with Capomulin\n",
    "all_capomulin = clean_df[clean_df['Drug Regimen']=='Capomulin']\n",
    "all_mice = all_capomulin['Mouse ID'].unique()\n",
    "random_num = randint(0, len(all_mice))\n",
    "random_id = all_mice[random_num]\n",
    "random_mouse = all_capomulin[all_capomulin['Mouse ID']==random_id]\n",
    "plt.plot(random_mouse['Timepoint'], random_mouse['Tumor Volume (mm3)'], 'o-')\n",
    "plt.title(f'Tumor Volumes of Mouse {random_id}')\n",
    "plt.ylabel('Tumor Volume (mm3)')\n",
    "plt.xlabel('Timepoint')\n",
    "plt.show()\n",
    "plt.savefig('images/random_capo_mouse.png')"
=======
   "execution_count": 16,
   "metadata": {},
   "outputs": [],
   "source": [
    "# Generate a line plot of tumor volume vs. time point for a mouse treated with Capomulin\n"
>>>>>>> e2292988aa0ae5a108c76c44d4f944c8a2613f82
   ]
  },
  {
   "cell_type": "code",
<<<<<<< HEAD
   "execution_count": 85,
   "metadata": {},
   "outputs": [
    {
     "data": {
      "image/png": "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\n",
      "text/plain": [
       "<Figure size 432x288 with 1 Axes>"
      ]
     },
     "metadata": {
      "needs_background": "light"
     },
     "output_type": "display_data"
    },
    {
     "data": {
      "text/plain": [
       "<Figure size 432x288 with 0 Axes>"
      ]
     },
     "metadata": {},
     "output_type": "display_data"
    }
   ],
   "source": [
    "# Generate a scatter plot of average tumor volume vs. mouse weight for the Capomulin regimen\n",
    "capomulin_avg = capomulin_df.groupby('Mouse ID').mean()\n",
    "\n",
    "#scatterplot\n",
    "plt.scatter(capomulin_avg['Tumor Volume (mm3)'], capomulin_avg['Weight (g)'], \n",
    "           marker = \"o\", color=\"#C0E9AD\", edgecolors=\"#75A75D\")\n",
    "#title and axis labels\n",
    "plt.title(\"Avg Tumor Vol vs Weight for Capomulin Treatment\")\n",
    "plt.xlabel(\"Average Tumor Volume (mm3)\")\n",
    "plt.ylabel(\"Mouse Weight (g)\")\n",
    "#show plot\n",
    "plt.show()\n",
    "#save plot\n",
    "plt.savefig('images/capo_tumorvol_weight_scatter.png')\n"
=======
   "execution_count": 17,
   "metadata": {},
   "outputs": [],
   "source": [
    "# Generate a scatter plot of average tumor volume vs. mouse weight for the Capomulin regimen\n"
>>>>>>> e2292988aa0ae5a108c76c44d4f944c8a2613f82
   ]
  },
  {
   "cell_type": "markdown",
   "metadata": {},
   "source": [
    "## Correlation and Regression"
   ]
  },
  {
   "cell_type": "code",
   "execution_count": 18,
   "metadata": {},
   "outputs": [],
   "source": [
    "# Calculate the correlation coefficient and linear regression model \n",
<<<<<<< HEAD
    "# for mouse weight and average tumor volume for the Capomulin regimen\n",
    "x_values = capomulin_avg['Tumor Volume (mm3)']\n",
    "y_values = capomulin_avg['Weight (g)']\n"
=======
    "# for mouse weight and average tumor volume for the Capomulin regimen\n"
>>>>>>> e2292988aa0ae5a108c76c44d4f944c8a2613f82
   ]
  },
  {
   "cell_type": "code",
   "execution_count": null,
   "metadata": {},
   "outputs": [],
   "source": []
  }
 ],
 "metadata": {
  "anaconda-cloud": {},
  "kernelspec": {
   "display_name": "Python 3",
   "language": "python",
   "name": "python3"
  },
  "language_info": {
   "codemirror_mode": {
    "name": "ipython",
    "version": 3
   },
   "file_extension": ".py",
   "mimetype": "text/x-python",
   "name": "python",
   "nbconvert_exporter": "python",
   "pygments_lexer": "ipython3",
   "version": "3.8.5"
  }
 },
 "nbformat": 4,
 "nbformat_minor": 4
}
